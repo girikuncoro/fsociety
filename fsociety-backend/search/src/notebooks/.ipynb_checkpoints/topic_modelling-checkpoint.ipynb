{
 "cells": [
  {
   "cell_type": "code",
   "execution_count": 1,
   "metadata": {
    "collapsed": true
   },
   "outputs": [],
   "source": [
    "import pickle\n",
    "import gensim\n",
    "import numpy\n",
    "from gensim import utils,corpora,models,similarities"
   ]
  },
  {
   "cell_type": "code",
   "execution_count": 2,
   "metadata": {
    "collapsed": false
   },
   "outputs": [],
   "source": [
    "corpus = pickle.load(open(\"../../data/reuters_corpus.list\", \"rb\"))"
   ]
  },
  {
   "cell_type": "code",
   "execution_count": 4,
   "metadata": {
    "collapsed": true
   },
   "outputs": [],
   "source": [
    "def corpus_bows(corpus):\n",
    "    print \"corpus_create called..\"\n",
    "    dictionary = corpora.Dictionary(corpus)\n",
    "#     dictionary.save('../../data/reuters.dict')\n",
    "    bow = [dictionary.doc2bow(text) for text in corpus]\n",
    "#     corpora.MmCorpus.serialize('../../data/reuters_bow.mm',bow)\n",
    "    print \"Bow Corpus = \",len(bow)\n",
    "    return bow"
   ]
  },
  {
   "cell_type": "code",
   "execution_count": 5,
   "metadata": {
    "collapsed": false
   },
   "outputs": [
    {
     "name": "stdout",
     "output_type": "stream",
     "text": [
      "corpus_create called..\n",
      "Bow Corpus =  78615\n"
     ]
    }
   ],
   "source": [
    "corpus_bow = corpus_bows(corpus)"
   ]
  },
  {
   "cell_type": "code",
   "execution_count": 8,
   "metadata": {
    "collapsed": false,
    "scrolled": true
   },
   "outputs": [
    {
     "data": {
      "text/plain": [
       "{0,\n",
       " 1,\n",
       " 2,\n",
       " 3,\n",
       " 4,\n",
       " 5,\n",
       " 6,\n",
       " 7,\n",
       " 8,\n",
       " 9,\n",
       " 10,\n",
       " 11,\n",
       " 12,\n",
       " 13,\n",
       " 14,\n",
       " 15,\n",
       " 16,\n",
       " 17,\n",
       " 18,\n",
       " 19,\n",
       " 20,\n",
       " 21,\n",
       " 22,\n",
       " 23,\n",
       " 24,\n",
       " 25,\n",
       " 26,\n",
       " 27,\n",
       " 28,\n",
       " 29,\n",
       " 30,\n",
       " 31,\n",
       " 32,\n",
       " 33,\n",
       " 34,\n",
       " 35,\n",
       " 36,\n",
       " 37,\n",
       " 38,\n",
       " 39,\n",
       " 40,\n",
       " 41,\n",
       " 42,\n",
       " 43,\n",
       " 44,\n",
       " 45,\n",
       " 46,\n",
       " 47,\n",
       " 48,\n",
       " 49,\n",
       " 50,\n",
       " 52,\n",
       " 55,\n",
       " 56,\n",
       " 58,\n",
       " 60,\n",
       " 61,\n",
       " 63,\n",
       " 66,\n",
       " 72,\n",
       " 82,\n",
       " 89}"
      ]
     },
     "execution_count": 8,
     "metadata": {},
     "output_type": "execute_result"
    }
   ],
   "source": [
    "set([len(x) for x in corpus_bow])"
   ]
  },
  {
   "cell_type": "code",
   "execution_count": 6,
   "metadata": {
    "collapsed": true
   },
   "outputs": [],
   "source": [
    "dictionary = pickle.load(open(\"../../data/reuters.dict\", \"rb\"))"
   ]
  },
  {
   "cell_type": "code",
   "execution_count": 7,
   "metadata": {
    "collapsed": false
   },
   "outputs": [
    {
     "data": {
      "text/plain": [
       "<gensim.corpora.dictionary.Dictionary at 0x1132df110>"
      ]
     },
     "execution_count": 7,
     "metadata": {},
     "output_type": "execute_result"
    }
   ],
   "source": [
    "dictionary"
   ]
  },
  {
   "cell_type": "code",
   "execution_count": 8,
   "metadata": {
    "collapsed": false
   },
   "outputs": [
    {
     "name": "stdout",
     "output_type": "stream",
     "text": [
      "Dictionary(29065 unique tokens: [u'mdbl', u'fawc', u'degussa', u'woods', u'hanging']...)\n"
     ]
    }
   ],
   "source": [
    "print (dictionary)"
   ]
  },
  {
   "cell_type": "code",
   "execution_count": 9,
   "metadata": {
    "collapsed": false
   },
   "outputs": [
    {
     "data": {
      "text/plain": [
       "list"
      ]
     },
     "execution_count": 9,
     "metadata": {},
     "output_type": "execute_result"
    }
   ],
   "source": [
    "type(corpus_bow)"
   ]
  },
  {
   "cell_type": "code",
   "execution_count": 10,
   "metadata": {
    "collapsed": false
   },
   "outputs": [
    {
     "data": {
      "text/plain": [
       "[(49, 1), (96, 1), (98, 1), (99, 1), (100, 1), (101, 1)]"
      ]
     },
     "execution_count": 10,
     "metadata": {},
     "output_type": "execute_result"
    }
   ],
   "source": [
    "corpus_bow[10]"
   ]
  },
  {
   "cell_type": "code",
   "execution_count": 11,
   "metadata": {
    "collapsed": true
   },
   "outputs": [],
   "source": [
    "def create_tfidf(corpus_bow):\n",
    "    print \"create_tfidf called...\"\n",
    "    corpus_tfidf = models.TfidfModel(corpus_bow)\n",
    "#     corpus_tfidf.save('../../data/reuters.tfidf_model')\n",
    "    return corpus_tfidf"
   ]
  },
  {
   "cell_type": "code",
   "execution_count": 12,
   "metadata": {
    "collapsed": false
   },
   "outputs": [
    {
     "name": "stdout",
     "output_type": "stream",
     "text": [
      "create_tfidf called...\n"
     ]
    }
   ],
   "source": [
    "tfidf = create_tfidf(corpus_bow)"
   ]
  },
  {
   "cell_type": "code",
   "execution_count": 13,
   "metadata": {
    "collapsed": true
   },
   "outputs": [],
   "source": [
    "corpus_tfidf = tfidf[corpus_bow]"
   ]
  },
  {
   "cell_type": "code",
   "execution_count": 14,
   "metadata": {
    "collapsed": false
   },
   "outputs": [
    {
     "data": {
      "text/plain": [
       "gensim.interfaces.TransformedCorpus"
      ]
     },
     "execution_count": 14,
     "metadata": {},
     "output_type": "execute_result"
    }
   ],
   "source": [
    "type(corpus_tfidf)"
   ]
  },
  {
   "cell_type": "code",
   "execution_count": 15,
   "metadata": {
    "collapsed": false
   },
   "outputs": [
    {
     "data": {
      "text/plain": [
       "[(0, 0.19768709036971652),\n",
       " (1, 0.19231943376684305),\n",
       " (2, 0.288094190309067),\n",
       " (3, 0.288094190309067),\n",
       " (4, 0.4449760500212876),\n",
       " (5, 0.1765215898661007),\n",
       " (6, 0.27393276178931925),\n",
       " (7, 0.15608559256338744),\n",
       " (8, 0.11820817551432761),\n",
       " (9, 0.21629365202554965),\n",
       " (10, 0.06914884978598795),\n",
       " (11, 0.023747101487162907),\n",
       " (12, 0.11892347481757348),\n",
       " (13, 0.30829358362276355),\n",
       " (14, 0.2091773705347886),\n",
       " (15, 0.2133475530087109),\n",
       " (16, 0.09865832390268617),\n",
       " (17, 0.12627226005136746),\n",
       " (18, 0.3453152785378352),\n",
       " (19, 0.14102703789633408)]"
      ]
     },
     "execution_count": 15,
     "metadata": {},
     "output_type": "execute_result"
    }
   ],
   "source": [
    "corpus_tfidf[0]"
   ]
  },
  {
   "cell_type": "code",
   "execution_count": 25,
   "metadata": {
    "collapsed": true
   },
   "outputs": [],
   "source": [
    "# pickle.dump(corpus_tfidf, open(\"../../data/reuters_tfidf.mm\", \"wb\"))"
   ]
  },
  {
   "cell_type": "code",
   "execution_count": 16,
   "metadata": {
    "collapsed": false
   },
   "outputs": [],
   "source": [
    "def build_lsi(corpus_vectors,dictionary,no_of_topics=10):\n",
    "    print \"build_lsi called ...\"\n",
    "    lsi = models.LsiModel(corpus_vectors, id2word=dictionary, num_topics=no_of_topics)\n",
    "#     lsi.save('../../data/reuters.lsi_model')\n",
    "    corpus_lsi = lsi[corpus_tfidf]\n",
    "    print \"Successful!\"\n",
    "#     corpora.MmCorpus.serialize('../../data/reuters.tfidf.lsi.mm', corpus_lsi)\n",
    "    return lsi, corpus_lsi"
   ]
  },
  {
   "cell_type": "code",
   "execution_count": 35,
   "metadata": {
    "collapsed": false
   },
   "outputs": [
    {
     "name": "stdout",
     "output_type": "stream",
     "text": [
      "build_lsi called ...\n",
      "Successful!\n"
     ]
    }
   ],
   "source": [
    "lsi, corpus_lsi = build_lsi(corpus_tfidf,dictionary,40)"
   ]
  },
  {
   "cell_type": "code",
   "execution_count": 37,
   "metadata": {
    "collapsed": false,
    "scrolled": true
   },
   "outputs": [
    {
     "data": {
      "text/plain": [
       "[(0,\n",
       "  u'0.577*\"vs\" + 0.404*\"mln\" + 0.300*\"cts\" + 0.265*\"net\" + 0.227*\"dlrs\" + 0.208*\"loss\" + 0.190*\"shr\" + 0.128*\"billion\" + 0.128*\"profit\" + 0.123*\"revs\"'),\n",
       " (1,\n",
       "  u'0.334*\"pct\" + -0.321*\"vs\" + 0.274*\"u\" + 0.250*\"billion\" + 0.192*\"tonnes\" + -0.189*\"cts\" + 0.186*\"dlrs\" + 0.169*\"year\" + 0.157*\"mln\" + 0.124*\"said\"'),\n",
       " (2,\n",
       "  u'0.879*\"u\" + -0.208*\"billion\" + -0.171*\"dlrs\" + -0.151*\"mln\" + -0.136*\"pct\" + 0.097*\"vs\" + 0.096*\"k\" + 0.085*\"cts\" + -0.082*\"year\" + -0.058*\"january\"'),\n",
       " (3,\n",
       "  u'-0.640*\"billion\" + 0.441*\"tonnes\" + 0.310*\"mln\" + -0.302*\"dlrs\" + 0.126*\"pct\" + -0.123*\"u\" + 0.111*\"wheat\" + 0.093*\"season\" + 0.091*\"production\" + -0.089*\"deficit\"'),\n",
       " (4,\n",
       "  u'-0.596*\"pct\" + 0.444*\"mln\" + 0.304*\"dlrs\" + 0.218*\"tonnes\" + -0.173*\"cts\" + 0.139*\"billion\" + 0.130*\"u\" + -0.127*\"vs\" + -0.118*\"rate\" + -0.104*\"rise\"'),\n",
       " (5,\n",
       "  u'-0.456*\"billion\" + 0.355*\"dlrs\" + -0.332*\"tonnes\" + -0.241*\"vs\" + 0.217*\"share\" + 0.181*\"mln\" + -0.169*\"month\" + -0.163*\"exports\" + 0.155*\"company\" + -0.146*\"last\"'),\n",
       " (6,\n",
       "  u'0.439*\"pct\" + 0.302*\"mln\" + 0.265*\"u\" + -0.176*\"tonnes\" + -0.153*\"said\" + -0.143*\"would\" + 0.128*\"rose\" + -0.127*\"cts\" + -0.120*\"wheat\" + -0.115*\"dollar\"'),\n",
       " (7,\n",
       "  u'0.338*\"mln\" + -0.279*\"dlrs\" + 0.261*\"bank\" + 0.247*\"stg\" + -0.235*\"tonnes\" + -0.224*\"share\" + -0.177*\"cts\" + 0.177*\"dollar\" + -0.169*\"per\" + 0.163*\"yen\"'),\n",
       " (8,\n",
       "  u'0.628*\"loss\" + -0.262*\"cts\" + 0.233*\"profit\" + -0.177*\"record\" + 0.170*\"year\" + -0.168*\"div\" + -0.163*\"dividend\" + -0.159*\"qtly\" + -0.157*\"april\" + -0.143*\"mln\"'),\n",
       " (9,\n",
       "  u'0.418*\"last\" + 0.400*\"month\" + -0.335*\"loss\" + -0.333*\"tonnes\" + 0.223*\"exports\" + 0.210*\"vs\" + 0.184*\"stocks\" + 0.163*\"year\" + -0.149*\"profit\" + -0.124*\"cts\"'),\n",
       " (10,\n",
       "  u'-0.277*\"yen\" + 0.271*\"oil\" + -0.251*\"dollar\" + -0.232*\"last\" + -0.224*\"year\" + -0.173*\"tonnes\" + -0.171*\"dlrs\" + -0.167*\"bank\" + -0.144*\"month\" + 0.142*\"would\"'),\n",
       " (11,\n",
       "  u'0.324*\"year\" + -0.257*\"dlrs\" + 0.233*\"last\" + 0.202*\"loss\" + -0.177*\"yen\" + -0.175*\"dollar\" + 0.165*\"company\" + -0.153*\"per\" + -0.152*\"price\" + -0.146*\"bank\"'),\n",
       " (12,\n",
       "  u'0.279*\"cts\" + -0.269*\"shares\" + 0.241*\"oil\" + -0.183*\"company\" + -0.183*\"pct\" + -0.181*\"stock\" + 0.174*\"year\" + -0.157*\"vs\" + 0.152*\"record\" + 0.150*\"qtly\"'),\n",
       " (13,\n",
       "  u'0.388*\"loss\" + 0.228*\"stg\" + 0.212*\"stocks\" + 0.204*\"month\" + -0.196*\"net\" + 0.180*\"exports\" + 0.169*\"profit\" + 0.155*\"shares\" + 0.148*\"money\" + -0.147*\"trade\"'),\n",
       " (14,\n",
       "  u'0.259*\"oil\" + 0.241*\"yen\" + 0.226*\"february\" + 0.212*\"january\" + 0.210*\"dollar\" + -0.187*\"money\" + 0.169*\"tonnes\" + 0.155*\"rose\" + -0.145*\"growth\" + -0.145*\"nil\"'),\n",
       " (15,\n",
       "  u'-0.293*\"oil\" + -0.291*\"stg\" + -0.270*\"money\" + -0.228*\"market\" + 0.217*\"dollar\" + 0.197*\"yen\" + 0.172*\"nil\" + -0.165*\"tonnes\" + -0.160*\"share\" + 0.151*\"mln\"'),\n",
       " (16,\n",
       "  u'-0.332*\"february\" + 0.320*\"oil\" + -0.309*\"january\" + -0.229*\"share\" + 0.186*\"fed\" + -0.171*\"wheat\" + -0.166*\"trade\" + 0.164*\"week\" + -0.145*\"stg\" + -0.145*\"surplus\"'),\n",
       " (17,\n",
       "  u'-0.252*\"tonnes\" + -0.235*\"share\" + 0.225*\"season\" + 0.224*\"sales\" + 0.217*\"week\" + 0.205*\"corn\" + 0.195*\"wheat\" + -0.173*\"imports\" + 0.152*\"begins\" + -0.151*\"per\"'),\n",
       " (18,\n",
       "  u'0.722*\"disclosed\" + 0.576*\"terms\" + 0.105*\"acquisition\" + 0.088*\"year\" + -0.076*\"share\" + 0.074*\"sales\" + 0.070*\"stg\" + 0.069*\"company\" + -0.065*\"stock\" + -0.063*\"shares\"'),\n",
       " (19,\n",
       "  u'0.320*\"year\" + 0.276*\"nil\" + 0.240*\"company\" + -0.211*\"dlrs\" + -0.198*\"loss\" + -0.191*\"disclosed\" + 0.186*\"net\" + -0.164*\"month\" + 0.158*\"yen\" + 0.153*\"corn\"')]"
      ]
     },
     "execution_count": 37,
     "metadata": {},
     "output_type": "execute_result"
    }
   ],
   "source": [
    "lsi.print_topics(20)"
   ]
  },
  {
   "cell_type": "code",
   "execution_count": 40,
   "metadata": {
    "collapsed": false
   },
   "outputs": [
    {
     "name": "stdout",
     "output_type": "stream",
     "text": [
      "build_lsi called ...\n",
      "Successful!\n"
     ]
    }
   ],
   "source": [
    "lsi, corpus_lsi = build_lsi(corpus_bow,dictionary,90)"
   ]
  },
  {
   "cell_type": "code",
   "execution_count": 42,
   "metadata": {
    "collapsed": false
   },
   "outputs": [
    {
     "data": {
      "text/plain": [
       "[(0,\n",
       "  u'0.834*\"nil\" + 0.236*\"vs\" + 0.220*\"mln\" + 0.167*\"prev\" + 0.166*\"wk\" + 0.154*\"e\" + 0.102*\"cts\" + 0.094*\"net\" + 0.086*\"c\" + 0.081*\"total\"'),\n",
       " (1,\n",
       "  u'0.556*\"vs\" + 0.512*\"mln\" + -0.356*\"nil\" + 0.244*\"cts\" + 0.223*\"net\" + 0.186*\"dlrs\" + 0.180*\"loss\" + 0.155*\"shr\" + 0.101*\"profit\" + 0.100*\"lt\"'),\n",
       " (2,\n",
       "  u'0.638*\"said\" + 0.300*\"pct\" + 0.268*\"mln\" + -0.261*\"vs\" + 0.194*\"dlrs\" + 0.180*\"u\" + -0.159*\"cts\" + 0.133*\"year\" + -0.122*\"loss\" + 0.114*\"tonnes\"'),\n",
       " (3,\n",
       "  u'-0.712*\"mln\" + 0.356*\"said\" + 0.287*\"cts\" + 0.237*\"loss\" + 0.212*\"vs\" + 0.175*\"lt\" + 0.141*\"net\" + 0.132*\"pct\" + 0.117*\"shr\" + 0.091*\"inc\"'),\n",
       " (4,\n",
       "  u'0.751*\"pct\" + -0.550*\"dlrs\" + -0.179*\"billion\" + -0.163*\"said\" + 0.094*\"vs\" + 0.083*\"mln\" + -0.072*\"share\" + 0.063*\"year\" + 0.057*\"rate\" + 0.054*\"tonnes\"'),\n",
       " (5,\n",
       "  u'-0.617*\"dlrs\" + -0.458*\"pct\" + 0.374*\"said\" + -0.317*\"billion\" + -0.180*\"year\" + 0.158*\"mln\" + 0.122*\"u\" + 0.106*\"vs\" + 0.099*\"tonnes\" + -0.076*\"share\"'),\n",
       " (6,\n",
       "  u'0.712*\"loss\" + -0.547*\"billion\" + -0.248*\"vs\" + 0.164*\"profit\" + 0.131*\"dlrs\" + 0.114*\"year\" + 0.100*\"tonnes\" + -0.099*\"net\" + 0.086*\"mln\" + -0.067*\"lt\"'),\n",
       " (7,\n",
       "  u'-0.475*\"u\" + 0.385*\"lt\" + -0.326*\"billion\" + -0.310*\"tonnes\" + -0.200*\"year\" + -0.185*\"loss\" + 0.168*\"inc\" + 0.149*\"said\" + -0.147*\"trade\" + 0.140*\"corp\"'),\n",
       " (8,\n",
       "  u'0.457*\"billion\" + 0.391*\"loss\" + -0.362*\"u\" + -0.319*\"tonnes\" + -0.268*\"cts\" + -0.259*\"dlrs\" + 0.229*\"said\" + 0.166*\"profit\" + -0.132*\"wheat\" + -0.118*\"share\"'),\n",
       " (9,\n",
       "  u'-0.561*\"tonnes\" + 0.513*\"u\" + -0.326*\"year\" + -0.193*\"lt\" + -0.186*\"billion\" + -0.144*\"last\" + 0.142*\"pct\" + 0.117*\"dlrs\" + -0.115*\"wheat\" + 0.110*\"trade\"'),\n",
       " (10,\n",
       "  u'0.588*\"lt\" + 0.376*\"u\" + -0.279*\"said\" + 0.262*\"billion\" + 0.246*\"loss\" + 0.221*\"inc\" + 0.206*\"corp\" + -0.143*\"year\" + -0.122*\"dlrs\" + -0.122*\"cts\"'),\n",
       " (11,\n",
       "  u'0.752*\"year\" + -0.375*\"tonnes\" + 0.219*\"last\" + -0.176*\"pct\" + -0.145*\"wheat\" + 0.142*\"u\" + -0.135*\"loss\" + -0.126*\"dlrs\" + 0.121*\"lt\" + -0.121*\"billion\"'),\n",
       " (12,\n",
       "  u'0.745*\"oil\" + -0.377*\"bank\" + 0.182*\"prices\" + -0.158*\"market\" + -0.114*\"cts\" + 0.108*\"gas\" + -0.108*\"tonnes\" + 0.103*\"crude\" + -0.100*\"year\" + 0.095*\"production\"'),\n",
       " (13,\n",
       "  u'0.492*\"bank\" + 0.414*\"oil\" + 0.341*\"cts\" + 0.215*\"market\" + -0.177*\"said\" + -0.169*\"vs\" + -0.128*\"u\" + 0.123*\"stg\" + 0.118*\"prices\" + 0.116*\"money\"'),\n",
       " (14,\n",
       "  u'0.431*\"cts\" + -0.405*\"bank\" + 0.295*\"would\" + -0.215*\"vs\" + 0.202*\"share\" + 0.179*\"billion\" + -0.178*\"oil\" + -0.160*\"market\" + 0.157*\"trade\" + -0.140*\"net\"'),\n",
       " (15,\n",
       "  u'-0.827*\"would\" + 0.217*\"said\" + 0.206*\"cts\" + -0.134*\"trade\" + 0.132*\"u\" + -0.120*\"lt\" + -0.087*\"vs\" + -0.085*\"told\" + 0.071*\"billion\" + -0.071*\"new\"'),\n",
       " (16,\n",
       "  u'0.705*\"trade\" + -0.314*\"profit\" + -0.231*\"would\" + 0.202*\"japan\" + -0.197*\"u\" + -0.147*\"company\" + 0.109*\"deficit\" + -0.103*\"share\" + -0.101*\"market\" + 0.094*\"ec\"'),\n",
       " (17,\n",
       "  u'-0.839*\"profit\" + -0.294*\"trade\" + 0.261*\"loss\" + 0.150*\"would\" + -0.081*\"share\" + 0.078*\"u\" + 0.077*\"cts\" + 0.074*\"billion\" + -0.072*\"two\" + -0.071*\"japan\"'),\n",
       " (18,\n",
       "  u'0.376*\"exports\" + 0.329*\"stocks\" + 0.310*\"imports\" + 0.305*\"production\" + 0.246*\"end\" + -0.204*\"wheat\" + -0.200*\"oil\" + 0.184*\"use\" + 0.175*\"start\" + 0.142*\"total\"'),\n",
       " (19,\n",
       "  u'-0.255*\"market\" + -0.249*\"last\" + -0.238*\"stock\" + 0.230*\"would\" + 0.227*\"cts\" + -0.218*\"shares\" + 0.193*\"tonnes\" + -0.193*\"vs\" + -0.189*\"one\" + 0.180*\"bank\"'),\n",
       " (20,\n",
       "  u'0.468*\"may\" + -0.400*\"market\" + -0.300*\"share\" + 0.227*\"april\" + 0.186*\"last\" + 0.157*\"profit\" + -0.133*\"per\" + -0.133*\"tonnes\" + -0.132*\"trade\" + 0.131*\"record\"'),\n",
       " (21,\n",
       "  u'0.455*\"wheat\" + -0.372*\"company\" + 0.303*\"market\" + -0.253*\"tonnes\" + 0.253*\"prices\" + -0.170*\"shares\" + -0.151*\"stock\" + -0.149*\"share\" + -0.138*\"last\" + -0.131*\"bank\"'),\n",
       " (22,\n",
       "  u'-0.427*\"market\" + 0.397*\"wheat\" + 0.361*\"bank\" + -0.285*\"last\" + 0.174*\"company\" + 0.150*\"trade\" + -0.130*\"dollar\" + 0.129*\"one\" + -0.125*\"tonnes\" + 0.115*\"net\"'),\n",
       " (23,\n",
       "  u'0.525*\"last\" + -0.466*\"may\" + 0.288*\"week\" + -0.255*\"market\" + -0.226*\"year\" + 0.167*\"month\" + 0.120*\"wheat\" + 0.113*\"february\" + 0.113*\"cts\" + -0.103*\"april\"'),\n",
       " (24,\n",
       "  u'0.550*\"one\" + -0.450*\"company\" + 0.422*\"two\" + -0.244*\"new\" + -0.169*\"dollar\" + -0.113*\"wheat\" + -0.102*\"yen\" + 0.099*\"stg\" + -0.097*\"rate\" + -0.097*\"also\"'),\n",
       " (25,\n",
       "  u'-0.398*\"last\" + 0.326*\"new\" + 0.325*\"dollar\" + 0.236*\"one\" + -0.235*\"company\" + 0.183*\"yen\" + 0.179*\"prices\" + -0.177*\"trade\" + -0.167*\"bank\" + 0.156*\"two\"'),\n",
       " (26,\n",
       "  u'-0.334*\"per\" + 0.324*\"new\" + -0.310*\"share\" + 0.258*\"two\" + 0.237*\"sales\" + 0.223*\"week\" + 0.218*\"company\" + -0.204*\"prices\" + 0.189*\"market\" + 0.189*\"net\"'),\n",
       " (27,\n",
       "  u'-0.333*\"sales\" + 0.272*\"oper\" + -0.244*\"prices\" + 0.243*\"may\" + -0.220*\"company\" + -0.220*\"march\" + -0.196*\"february\" + 0.176*\"wheat\" + -0.175*\"vs\" + -0.165*\"april\"'),\n",
       " (28,\n",
       "  u'0.347*\"inc\" + 0.318*\"february\" + 0.252*\"shares\" + 0.244*\"january\" + -0.243*\"corp\" + -0.221*\"per\" + -0.218*\"sales\" + 0.197*\"may\" + 0.186*\"stock\" + -0.180*\"share\"'),\n",
       " (29,\n",
       "  u'-0.444*\"new\" + 0.361*\"may\" + 0.263*\"sales\" + 0.223*\"net\" + 0.223*\"company\" + 0.168*\"february\" + 0.166*\"two\" + -0.158*\"shares\" + 0.154*\"quarter\" + -0.151*\"april\"'),\n",
       " (30,\n",
       "  u'-0.372*\"inc\" + 0.364*\"new\" + 0.313*\"corp\" + 0.236*\"prices\" + 0.223*\"february\" + -0.221*\"shares\" + -0.214*\"dollar\" + -0.203*\"sales\" + 0.182*\"company\" + 0.178*\"january\"'),\n",
       " (31,\n",
       "  u'-0.407*\"company\" + -0.344*\"wheat\" + 0.305*\"sales\" + 0.249*\"may\" + 0.239*\"new\" + 0.236*\"share\" + -0.194*\"one\" + 0.186*\"week\" + -0.181*\"dollar\" + -0.177*\"japan\"'),\n",
       " (32,\n",
       "  u'-0.471*\"inc\" + 0.414*\"corp\" + 0.296*\"shares\" + -0.266*\"new\" + 0.207*\"stock\" + 0.176*\"net\" + 0.162*\"prices\" + -0.146*\"quarter\" + -0.144*\"share\" + -0.139*\"per\"'),\n",
       " (33,\n",
       "  u'-0.419*\"japan\" + 0.328*\"rate\" + -0.279*\"sales\" + 0.199*\"rates\" + -0.198*\"new\" + -0.196*\"oper\" + 0.185*\"price\" + 0.162*\"exchange\" + 0.142*\"trade\" + 0.138*\"interest\"'),\n",
       " (34,\n",
       "  u'-0.333*\"prices\" + 0.328*\"one\" + -0.310*\"two\" + 0.270*\"oper\" + 0.246*\"february\" + -0.215*\"inc\" + 0.195*\"january\" + -0.182*\"also\" + 0.166*\"march\" + 0.147*\"sales\"'),\n",
       " (35,\n",
       "  u'-0.382*\"oper\" + -0.351*\"price\" + 0.306*\"first\" + 0.275*\"quarter\" + -0.240*\"per\" + 0.183*\"shares\" + -0.180*\"week\" + 0.171*\"wheat\" + -0.150*\"company\" + 0.139*\"imports\"'),\n",
       " (36,\n",
       "  u'0.621*\"oper\" + 0.235*\"prices\" + -0.190*\"new\" + -0.167*\"price\" + 0.152*\"also\" + 0.144*\"grain\" + -0.139*\"per\" + 0.129*\"april\" + 0.129*\"rate\" + -0.126*\"dollar\"'),\n",
       " (37,\n",
       "  u'0.505*\"two\" + -0.470*\"one\" + -0.239*\"prices\" + 0.187*\"oper\" + 0.187*\"february\" + -0.157*\"corn\" + 0.152*\"january\" + 0.143*\"exports\" + 0.130*\"wheat\" + -0.123*\"production\"'),\n",
       " (38,\n",
       "  u'0.632*\"also\" + -0.276*\"dollar\" + -0.243*\"two\" + -0.231*\"prices\" + -0.192*\"first\" + 0.175*\"one\" + -0.154*\"quarter\" + 0.143*\"government\" + 0.140*\"price\" + -0.118*\"company\"'),\n",
       " (39,\n",
       "  u'-0.439*\"also\" + 0.308*\"japan\" + -0.222*\"prices\" + -0.210*\"dollar\" + -0.203*\"sales\" + 0.173*\"week\" + 0.169*\"net\" + -0.165*\"total\" + 0.148*\"april\" + 0.147*\"march\"'),\n",
       " (40,\n",
       "  u'0.406*\"first\" + 0.315*\"price\" + 0.310*\"quarter\" + -0.242*\"production\" + -0.210*\"two\" + -0.197*\"share\" + 0.158*\"oper\" + 0.156*\"net\" + -0.145*\"corn\" + -0.140*\"february\"'),\n",
       " (41,\n",
       "  u'0.467*\"also\" + -0.291*\"sales\" + -0.255*\"price\" + 0.251*\"march\" + 0.236*\"week\" + 0.203*\"dollar\" + -0.169*\"cts\" + -0.154*\"rate\" + -0.141*\"exchange\" + 0.137*\"share\"'),\n",
       " (42,\n",
       "  u'-0.264*\"total\" + -0.236*\"price\" + 0.231*\"prices\" + -0.223*\"japan\" + 0.220*\"exports\" + -0.217*\"acres\" + -0.191*\"first\" + -0.187*\"production\" + 0.185*\"ec\" + -0.174*\"quarter\"'),\n",
       " (43,\n",
       "  u'0.285*\"corn\" + -0.284*\"government\" + -0.239*\"total\" + 0.224*\"stock\" + 0.192*\"price\" + -0.191*\"march\" + 0.168*\"corp\" + -0.167*\"week\" + -0.160*\"group\" + 0.158*\"also\"'),\n",
       " (44,\n",
       "  u'-0.291*\"stock\" + 0.286*\"corn\" + -0.210*\"wheat\" + -0.199*\"production\" + -0.180*\"march\" + 0.176*\"export\" + 0.158*\"grain\" + 0.155*\"ec\" + 0.155*\"group\" + 0.142*\"stg\"'),\n",
       " (45,\n",
       "  u'-0.481*\"stock\" + 0.433*\"shares\" + -0.157*\"government\" + -0.153*\"net\" + -0.151*\"april\" + -0.145*\"export\" + 0.140*\"japan\" + -0.134*\"ec\" + -0.133*\"dividend\" + -0.132*\"tax\"'),\n",
       " (46,\n",
       "  u'-0.347*\"stg\" + 0.263*\"ec\" + -0.221*\"government\" + -0.212*\"shares\" + -0.207*\"growth\" + 0.191*\"total\" + -0.168*\"april\" + -0.157*\"exports\" + 0.154*\"exchange\" + -0.144*\"economic\"'),\n",
       " (47,\n",
       "  u'-0.289*\"production\" + 0.273*\"government\" + -0.236*\"per\" + -0.223*\"rate\" + 0.222*\"share\" + -0.211*\"ec\" + -0.194*\"stg\" + -0.181*\"shares\" + -0.180*\"net\" + -0.174*\"april\"'),\n",
       " (48,\n",
       "  u'0.303*\"production\" + 0.288*\"corp\" + -0.223*\"japan\" + -0.204*\"total\" + 0.178*\"ec\" + -0.169*\"stg\" + 0.168*\"dollar\" + -0.161*\"ltd\" + 0.161*\"inc\" + -0.158*\"rates\"'),\n",
       " (49,\n",
       "  u'0.398*\"corp\" + 0.255*\"inc\" + -0.253*\"corn\" + -0.246*\"ltd\" + 0.224*\"total\" + -0.219*\"price\" + 0.214*\"japan\" + -0.209*\"co\" + -0.169*\"dollar\" + -0.168*\"lt\"')]"
      ]
     },
     "execution_count": 42,
     "metadata": {},
     "output_type": "execute_result"
    }
   ],
   "source": [
    "lsi.print_topics(50)"
   ]
  },
  {
   "cell_type": "code",
   "execution_count": 43,
   "metadata": {
    "collapsed": true
   },
   "outputs": [],
   "source": [
    "index = similarities.MatrixSimilarity(corpus_lsi)"
   ]
  },
  {
   "cell_type": "code",
   "execution_count": 44,
   "metadata": {
    "collapsed": true
   },
   "outputs": [],
   "source": [
    "test = lsi[corpus_bow[1000]]"
   ]
  },
  {
   "cell_type": "code",
   "execution_count": 45,
   "metadata": {
    "collapsed": true
   },
   "outputs": [],
   "source": [
    "sims = index[test]"
   ]
  },
  {
   "cell_type": "code",
   "execution_count": 46,
   "metadata": {
    "collapsed": false
   },
   "outputs": [
    {
     "name": "stdout",
     "output_type": "stream",
     "text": [
      "Similarities of 100 = 0.0818072855473, 1000 = 0.996070563793, 4000 = 0.0962932854891\n"
     ]
    }
   ],
   "source": [
    "print \"Similarities of 100 = {}, 1000 = {}, 4000 = {}\".format(sims[100],sims[1000],sims[4000])"
   ]
  },
  {
   "cell_type": "code",
   "execution_count": null,
   "metadata": {
    "collapsed": true
   },
   "outputs": [],
   "source": [
    "corpus_real = pickle.load(open(\"../../data/reuters.list\", \"rb\"))"
   ]
  },
  {
   "cell_type": "code",
   "execution_count": 77,
   "metadata": {
    "collapsed": true
   },
   "outputs": [],
   "source": [
    "doc = \"rye\""
   ]
  },
  {
   "cell_type": "code",
   "execution_count": 78,
   "metadata": {
    "collapsed": false
   },
   "outputs": [],
   "source": [
    "vec_bow = dictionary.doc2bow(doc.lower().split())"
   ]
  },
  {
   "cell_type": "code",
   "execution_count": 79,
   "metadata": {
    "collapsed": true
   },
   "outputs": [],
   "source": [
    "vec_lsi = lsi[vec_bow]"
   ]
  },
  {
   "cell_type": "code",
   "execution_count": 80,
   "metadata": {
    "collapsed": false
   },
   "outputs": [
    {
     "name": "stdout",
     "output_type": "stream",
     "text": [
      "[(12833, 0.73382282), (17728, 0.73382282), (41650, 0.73382282), (59430, 0.73382282), (61342, 0.73382282), (64110, 0.73382282), (76397, 0.73382282), (12883, 0.72111881), (17983, 0.72111881), (42428, 0.72111881), (59675, 0.72111881), (61378, 0.72111881), (76792, 0.72111881), (41865, 0.71558946), (76508, 0.71558946), (12880, 0.71401328), (17980, 0.71401328), (42425, 0.71401328), (59672, 0.71401328), (61375, 0.71401328), (76789, 0.71401328), (12882, 0.70102108), (17982, 0.70102108), (42427, 0.70102108), (59674, 0.70102108), (61377, 0.70102108), (76791, 0.70102108), (17650, 0.69488585), (41376, 0.69488585), (76238, 0.69488585), (41669, 0.6915586), (59445, 0.6915586), (64125, 0.6915586), (12699, 0.69030184), (17270, 0.69030184), (18986, 0.69030184), (40430, 0.69030184), (50833, 0.69030184), (58789, 0.69030184), (59069, 0.69030184), (62333, 0.69030184), (65500, 0.69030184), (65900, 0.69030184), (66209, 0.69030184), (66544, 0.69030184), (74705, 0.69030184), (75774, 0.69030184), (41670, 0.69006139), (59446, 0.69006139), (64126, 0.69006139), (71894, 0.68967956), (41846, 0.68880332), (76493, 0.68880332), (41852, 0.68864846), (76499, 0.68864846), (18908, 0.68775767), (44169, 0.68775767), (58911, 0.68775767), (60276, 0.68775767), (63273, 0.68775767), (65840, 0.68775767), (67486, 0.68775767), (77541, 0.68775767), (42492, 0.68648875), (76846, 0.68648875), (43569, 0.68554175), (40771, 0.68083489), (63402, 0.68083489), (75941, 0.68083489), (40775, 0.67992049), (62449, 0.67992049), (75945, 0.67992049), (42148, 0.67497969), (76654, 0.67497969), (41671, 0.67448354), (59447, 0.67448354), (64127, 0.67448354), (42516, 0.67091399), (76852, 0.67091399), (42901, 0.67039925), (64644, 0.67039925), (77014, 0.67039925), (12955, 0.668329), (43683, 0.668329), (40931, 0.66567272), (75991, 0.66567272), (43923, 0.66439921), (77505, 0.66439921), (12976, 0.66238225), (18914, 0.66238225), (44219, 0.66238225), (77585, 0.66238225), (40754, 0.66209084), (75930, 0.66209084), (42824, 0.66140056), (42826, 0.66140056), (76992, 0.66140056), (76994, 0.66140056), (41876, 0.66137028), (64181, 0.66137028)]\n"
     ]
    }
   ],
   "source": [
    "sims = index[vec_lsi]\n",
    "sims = sorted(enumerate(sims), key=lambda item: -item[1])\n",
    "print(sims[:100])"
   ]
  },
  {
   "cell_type": "code",
   "execution_count": 83,
   "metadata": {
    "collapsed": false,
    "scrolled": true
   },
   "outputs": [
    {
     "data": {
      "text/plain": [
       "[u'soviet',\n",
       " u'union',\n",
       " u'took',\n",
       " u'tonnes',\n",
       " u'wheat',\n",
       " u'barley',\n",
       " u'saudi',\n",
       " u'arabia',\n",
       " u'tonnes',\n",
       " u'barley',\n",
       " u'china',\n",
       " u'wheat',\n",
       " u'algeria',\n",
       " u'wheat',\n",
       " u'bangladesh',\n",
       " u'wheat',\n",
       " u'morocco',\n",
       " u'maize',\n",
       " u'greece',\n",
       " u'wheat',\n",
       " u'barley',\n",
       " u'spain',\n",
       " u'wheat',\n",
       " u'poland',\n",
       " u'wheat',\n",
       " u'brazil',\n",
       " u'wheat',\n",
       " u'italy',\n",
       " u'wheat',\n",
       " u'cyprus',\n",
       " u'wheat',\n",
       " u'maize',\n",
       " u'israel',\n",
       " u'maize',\n",
       " u'u',\n",
       " u'k',\n",
       " u'tonnes',\n",
       " u'wheat']"
      ]
     },
     "execution_count": 83,
     "metadata": {},
     "output_type": "execute_result"
    }
   ],
   "source": [
    "corpus[12833]"
   ]
  },
  {
   "cell_type": "markdown",
   "metadata": {},
   "source": [
    "## Testing"
   ]
  },
  {
   "cell_type": "code",
   "execution_count": 17,
   "metadata": {
    "collapsed": true
   },
   "outputs": [],
   "source": [
    "corpus_real = pickle.load(open(\"../../data/reuters_sentences.list\", \"rb\"))"
   ]
  },
  {
   "cell_type": "code",
   "execution_count": 18,
   "metadata": {
    "collapsed": true
   },
   "outputs": [],
   "source": [
    "def test_search(test, lsi_model, index, tfidf = False, tfidf_model=None):\n",
    "    vec_bow = dictionary.doc2bow(test.lower().split())\n",
    "    if tfidf:\n",
    "        vec = tfidf_model[vec_bow]\n",
    "    else:\n",
    "        vec = vec_bow\n",
    "    vec_lsi = lsi_model[vec]\n",
    "    print vec_lsi\n",
    "    sims = index[vec_lsi]\n",
    "    sims = sorted(enumerate(sims), key=lambda item: -item[1])\n",
    "    for x in sims[:100]:\n",
    "        print x[0]\n",
    "        print corpus_real[x[0]]\n",
    "    return [x[0] for x in sims[:50]]"
   ]
  },
  {
   "cell_type": "code",
   "execution_count": 19,
   "metadata": {
    "collapsed": false
   },
   "outputs": [
    {
     "name": "stdout",
     "output_type": "stream",
     "text": [
      "build_lsi called ...\n",
      "Successful!\n",
      "build_lsi called ...\n",
      "Successful!\n"
     ]
    }
   ],
   "source": [
    "lsi_bow, corpus_bow_lsi = build_lsi(corpus_bow,dictionary,90)\n",
    "lsi_tfidf, corpus_tfidf_lsi = build_lsi(corpus_tfidf,dictionary,90)"
   ]
  },
  {
   "cell_type": "code",
   "execution_count": 20,
   "metadata": {
    "collapsed": true
   },
   "outputs": [],
   "source": [
    "index_bow = similarities.MatrixSimilarity(corpus_bow_lsi)\n",
    "index_tfidf = similarities.MatrixSimilarity(corpus_tfidf_lsi)"
   ]
  },
  {
   "cell_type": "code",
   "execution_count": 23,
   "metadata": {
    "collapsed": false
   },
   "outputs": [
    {
     "name": "stdout",
     "output_type": "stream",
     "text": [
      "12833\n",
      "[u'The', u'Soviet', u'Union', u'took', u'263', u',', u'051', u'tonnes', u'of', u'wheat', u'and', u'barley', u',', u'Saudi', u'Arabia', u'90', u',', u'944', u'tonnes', u'barley', u',', u'China', u'87', u',', u'259', u'wheat', u',', u'Algeria', u'64', u',', u'896', u'wheat', u',', u'Bangladesh', u'30', u',', u'000', u'wheat', u',', u'Morocco', u'27', u',', u'500', u'maize', u',', u'Greece', u'26', u',', u'700', u'wheat', u'and', u'barley', u',', u'Spain', u'25', u',', u'124', u'wheat', u',', u'Poland', u'24', u',', u'683', u'wheat', u',', u'Brazil', u'24', u',', u'082', u'wheat', u',', u'Italy', u'21', u',', u'659', u'wheat', u',', u'Cyprus', u'20', u',', u'700', u'wheat', u'and', u'maize', u',', u'Israel', u'16', u',', u'500', u'maize', u'and', u'the', u'U', u'.', u'K', u'.', u'8', u',', u'797', u'tonnes', u'wheat', u'.']\n",
      "17728\n",
      "[u'The', u'Soviet', u'Union', u'took', u'263', u',', u'051', u'tonnes', u'of', u'wheat', u'and', u'barley', u',', u'Saudi', u'Arabia', u'90', u',', u'944', u'tonnes', u'barley', u',', u'China', u'87', u',', u'259', u'wheat', u',', u'Algeria', u'64', u',', u'896', u'wheat', u',', u'Bangladesh', u'30', u',', u'000', u'wheat', u',', u'Morocco', u'27', u',', u'500', u'maize', u',', u'Greece', u'26', u',', u'700', u'wheat', u'and', u'barley', u',', u'Spain', u'25', u',', u'124', u'wheat', u',', u'Poland', u'24', u',', u'683', u'wheat', u',', u'Brazil', u'24', u',', u'082', u'wheat', u',', u'Italy', u'21', u',', u'659', u'wheat', u',', u'Cyprus', u'20', u',', u'700', u'wheat', u'and', u'maize', u',', u'Israel', u'16', u',', u'500', u'maize', u'and', u'the', u'U', u'.', u'K', u'.', u'8', u',', u'797', u'tonnes', u'wheat', u'.']\n",
      "41650\n",
      "[u'The', u'Soviet', u'Union', u'took', u'263', u',', u'051', u'tonnes', u'of', u'wheat', u'and', u'barley', u',', u'Saudi', u'Arabia', u'90', u',', u'944', u'tonnes', u'barley', u',', u'China', u'87', u',', u'259', u'wheat', u',', u'Algeria', u'64', u',', u'896', u'wheat', u',', u'Bangladesh', u'30', u',', u'000', u'wheat', u',', u'Morocco', u'27', u',', u'500', u'maize', u',', u'Greece', u'26', u',', u'700', u'wheat', u'and', u'barley', u',', u'Spain', u'25', u',', u'124', u'wheat', u',', u'Poland', u'24', u',', u'683', u'wheat', u',', u'Brazil', u'24', u',', u'082', u'wheat', u',', u'Italy', u'21', u',', u'659', u'wheat', u',', u'Cyprus', u'20', u',', u'700', u'wheat', u'and', u'maize', u',', u'Israel', u'16', u',', u'500', u'maize', u'and', u'the', u'U', u'.', u'K', u'.', u'8', u',', u'797', u'tonnes', u'wheat', u'.']\n",
      "59430\n",
      "[u'The', u'Soviet', u'Union', u'took', u'263', u',', u'051', u'tonnes', u'of', u'wheat', u'and', u'barley', u',', u'Saudi', u'Arabia', u'90', u',', u'944', u'tonnes', u'barley', u',', u'China', u'87', u',', u'259', u'wheat', u',', u'Algeria', u'64', u',', u'896', u'wheat', u',', u'Bangladesh', u'30', u',', u'000', u'wheat', u',', u'Morocco', u'27', u',', u'500', u'maize', u',', u'Greece', u'26', u',', u'700', u'wheat', u'and', u'barley', u',', u'Spain', u'25', u',', u'124', u'wheat', u',', u'Poland', u'24', u',', u'683', u'wheat', u',', u'Brazil', u'24', u',', u'082', u'wheat', u',', u'Italy', u'21', u',', u'659', u'wheat', u',', u'Cyprus', u'20', u',', u'700', u'wheat', u'and', u'maize', u',', u'Israel', u'16', u',', u'500', u'maize', u'and', u'the', u'U', u'.', u'K', u'.', u'8', u',', u'797', u'tonnes', u'wheat', u'.']\n",
      "61342\n",
      "[u'The', u'Soviet', u'Union', u'took', u'263', u',', u'051', u'tonnes', u'of', u'wheat', u'and', u'barley', u',', u'Saudi', u'Arabia', u'90', u',', u'944', u'tonnes', u'barley', u',', u'China', u'87', u',', u'259', u'wheat', u',', u'Algeria', u'64', u',', u'896', u'wheat', u',', u'Bangladesh', u'30', u',', u'000', u'wheat', u',', u'Morocco', u'27', u',', u'500', u'maize', u',', u'Greece', u'26', u',', u'700', u'wheat', u'and', u'barley', u',', u'Spain', u'25', u',', u'124', u'wheat', u',', u'Poland', u'24', u',', u'683', u'wheat', u',', u'Brazil', u'24', u',', u'082', u'wheat', u',', u'Italy', u'21', u',', u'659', u'wheat', u',', u'Cyprus', u'20', u',', u'700', u'wheat', u'and', u'maize', u',', u'Israel', u'16', u',', u'500', u'maize', u'and', u'the', u'U', u'.', u'K', u'.', u'8', u',', u'797', u'tonnes', u'wheat', u'.']\n",
      "64110\n",
      "[u'The', u'Soviet', u'Union', u'took', u'263', u',', u'051', u'tonnes', u'of', u'wheat', u'and', u'barley', u',', u'Saudi', u'Arabia', u'90', u',', u'944', u'tonnes', u'barley', u',', u'China', u'87', u',', u'259', u'wheat', u',', u'Algeria', u'64', u',', u'896', u'wheat', u',', u'Bangladesh', u'30', u',', u'000', u'wheat', u',', u'Morocco', u'27', u',', u'500', u'maize', u',', u'Greece', u'26', u',', u'700', u'wheat', u'and', u'barley', u',', u'Spain', u'25', u',', u'124', u'wheat', u',', u'Poland', u'24', u',', u'683', u'wheat', u',', u'Brazil', u'24', u',', u'082', u'wheat', u',', u'Italy', u'21', u',', u'659', u'wheat', u',', u'Cyprus', u'20', u',', u'700', u'wheat', u'and', u'maize', u',', u'Israel', u'16', u',', u'500', u'maize', u'and', u'the', u'U', u'.', u'K', u'.', u'8', u',', u'797', u'tonnes', u'wheat', u'.']\n",
      "76397\n",
      "[u'The', u'Soviet', u'Union', u'took', u'263', u',', u'051', u'tonnes', u'of', u'wheat', u'and', u'barley', u',', u'Saudi', u'Arabia', u'90', u',', u'944', u'tonnes', u'barley', u',', u'China', u'87', u',', u'259', u'wheat', u',', u'Algeria', u'64', u',', u'896', u'wheat', u',', u'Bangladesh', u'30', u',', u'000', u'wheat', u',', u'Morocco', u'27', u',', u'500', u'maize', u',', u'Greece', u'26', u',', u'700', u'wheat', u'and', u'barley', u',', u'Spain', u'25', u',', u'124', u'wheat', u',', u'Poland', u'24', u',', u'683', u'wheat', u',', u'Brazil', u'24', u',', u'082', u'wheat', u',', u'Italy', u'21', u',', u'659', u'wheat', u',', u'Cyprus', u'20', u',', u'700', u'wheat', u'and', u'maize', u',', u'Israel', u'16', u',', u'500', u'maize', u'and', u'the', u'U', u'.', u'K', u'.', u'8', u',', u'797', u'tonnes', u'wheat', u'.']\n",
      "12883\n",
      "[u'By', u'this', u'Friday', u',', u'sources', u'estimated', u'a', u'further', u'233', u',', u'600', u'tonnes', u'of', u'cereals', u'will', u'have', u'been', u'loaded', u',', u'comprising', u'47', u',', u'000', u'tonnes', u'of', u'barley', u',', u'78', u',', u'600', u'of', u'wheat', u'and', u'25', u',', u'000', u'of', u'rapeseed', u'for', u'the', u'Soviet', u'Union', u',', u'30', u',', u'000', u'of', u'wheat', u'for', u'Sri', u'Lanka', u',', u'28', u',', u'000', u'of', u'wheat', u'for', u'China', u'and', u'25', u',', u'000', u'of', u'wheat', u'for', u'Poland', u'.']\n",
      "17983\n",
      "[u'By', u'this', u'Friday', u',', u'sources', u'estimated', u'a', u'further', u'233', u',', u'600', u'tonnes', u'of', u'cereals', u'will', u'have', u'been', u'loaded', u',', u'comprising', u'47', u',', u'000', u'tonnes', u'of', u'barley', u',', u'78', u',', u'600', u'of', u'wheat', u'and', u'25', u',', u'000', u'of', u'rapeseed', u'for', u'the', u'Soviet', u'Union', u',', u'30', u',', u'000', u'of', u'wheat', u'for', u'Sri', u'Lanka', u',', u'28', u',', u'000', u'of', u'wheat', u'for', u'China', u'and', u'25', u',', u'000', u'of', u'wheat', u'for', u'Poland', u'.']\n",
      "42428\n",
      "[u'By', u'this', u'Friday', u',', u'sources', u'estimated', u'a', u'further', u'233', u',', u'600', u'tonnes', u'of', u'cereals', u'will', u'have', u'been', u'loaded', u',', u'comprising', u'47', u',', u'000', u'tonnes', u'of', u'barley', u',', u'78', u',', u'600', u'of', u'wheat', u'and', u'25', u',', u'000', u'of', u'rapeseed', u'for', u'the', u'Soviet', u'Union', u',', u'30', u',', u'000', u'of', u'wheat', u'for', u'Sri', u'Lanka', u',', u'28', u',', u'000', u'of', u'wheat', u'for', u'China', u'and', u'25', u',', u'000', u'of', u'wheat', u'for', u'Poland', u'.']\n",
      "59675\n",
      "[u'By', u'this', u'Friday', u',', u'sources', u'estimated', u'a', u'further', u'233', u',', u'600', u'tonnes', u'of', u'cereals', u'will', u'have', u'been', u'loaded', u',', u'comprising', u'47', u',', u'000', u'tonnes', u'of', u'barley', u',', u'78', u',', u'600', u'of', u'wheat', u'and', u'25', u',', u'000', u'of', u'rapeseed', u'for', u'the', u'Soviet', u'Union', u',', u'30', u',', u'000', u'of', u'wheat', u'for', u'Sri', u'Lanka', u',', u'28', u',', u'000', u'of', u'wheat', u'for', u'China', u'and', u'25', u',', u'000', u'of', u'wheat', u'for', u'Poland', u'.']\n",
      "61378\n",
      "[u'By', u'this', u'Friday', u',', u'sources', u'estimated', u'a', u'further', u'233', u',', u'600', u'tonnes', u'of', u'cereals', u'will', u'have', u'been', u'loaded', u',', u'comprising', u'47', u',', u'000', u'tonnes', u'of', u'barley', u',', u'78', u',', u'600', u'of', u'wheat', u'and', u'25', u',', u'000', u'of', u'rapeseed', u'for', u'the', u'Soviet', u'Union', u',', u'30', u',', u'000', u'of', u'wheat', u'for', u'Sri', u'Lanka', u',', u'28', u',', u'000', u'of', u'wheat', u'for', u'China', u'and', u'25', u',', u'000', u'of', u'wheat', u'for', u'Poland', u'.']\n",
      "76792\n",
      "[u'By', u'this', u'Friday', u',', u'sources', u'estimated', u'a', u'further', u'233', u',', u'600', u'tonnes', u'of', u'cereals', u'will', u'have', u'been', u'loaded', u',', u'comprising', u'47', u',', u'000', u'tonnes', u'of', u'barley', u',', u'78', u',', u'600', u'of', u'wheat', u'and', u'25', u',', u'000', u'of', u'rapeseed', u'for', u'the', u'Soviet', u'Union', u',', u'30', u',', u'000', u'of', u'wheat', u'for', u'Sri', u'Lanka', u',', u'28', u',', u'000', u'of', u'wheat', u'for', u'China', u'and', u'25', u',', u'000', u'of', u'wheat', u'for', u'Poland', u'.']\n",
      "12880\n",
      "[u'Main', u'destinations', u'were', u'Saudi', u'Arabia', u'with', u'158', u',', u'109', u'tonnes', u'of', u'barley', u',', u'the', u'Soviet', u'Union', u'147', u',', u'214', u'of', u'wheat', u',', u'Italy', u'104', u',', u'704', u'of', u'wheat', u',', u'Spain', u'91', u',', u'381', u'of', u'wheat', u'and', u'maize', u',', u'China', u'52', u',', u'500', u'of', u'wheat', u'and', u'Algeria', u'41', u',', u'000', u'of', u'wheat', u'.']\n",
      "17980\n",
      "[u'Main', u'destinations', u'were', u'Saudi', u'Arabia', u'with', u'158', u',', u'109', u'tonnes', u'of', u'barley', u',', u'the', u'Soviet', u'Union', u'147', u',', u'214', u'of', u'wheat', u',', u'Italy', u'104', u',', u'704', u'of', u'wheat', u',', u'Spain', u'91', u',', u'381', u'of', u'wheat', u'and', u'maize', u',', u'China', u'52', u',', u'500', u'of', u'wheat', u'and', u'Algeria', u'41', u',', u'000', u'of', u'wheat', u'.']\n",
      "42425\n",
      "[u'Main', u'destinations', u'were', u'Saudi', u'Arabia', u'with', u'158', u',', u'109', u'tonnes', u'of', u'barley', u',', u'the', u'Soviet', u'Union', u'147', u',', u'214', u'of', u'wheat', u',', u'Italy', u'104', u',', u'704', u'of', u'wheat', u',', u'Spain', u'91', u',', u'381', u'of', u'wheat', u'and', u'maize', u',', u'China', u'52', u',', u'500', u'of', u'wheat', u'and', u'Algeria', u'41', u',', u'000', u'of', u'wheat', u'.']\n",
      "59672\n",
      "[u'Main', u'destinations', u'were', u'Saudi', u'Arabia', u'with', u'158', u',', u'109', u'tonnes', u'of', u'barley', u',', u'the', u'Soviet', u'Union', u'147', u',', u'214', u'of', u'wheat', u',', u'Italy', u'104', u',', u'704', u'of', u'wheat', u',', u'Spain', u'91', u',', u'381', u'of', u'wheat', u'and', u'maize', u',', u'China', u'52', u',', u'500', u'of', u'wheat', u'and', u'Algeria', u'41', u',', u'000', u'of', u'wheat', u'.']\n",
      "61375\n",
      "[u'Main', u'destinations', u'were', u'Saudi', u'Arabia', u'with', u'158', u',', u'109', u'tonnes', u'of', u'barley', u',', u'the', u'Soviet', u'Union', u'147', u',', u'214', u'of', u'wheat', u',', u'Italy', u'104', u',', u'704', u'of', u'wheat', u',', u'Spain', u'91', u',', u'381', u'of', u'wheat', u'and', u'maize', u',', u'China', u'52', u',', u'500', u'of', u'wheat', u'and', u'Algeria', u'41', u',', u'000', u'of', u'wheat', u'.']\n",
      "76789\n",
      "[u'Main', u'destinations', u'were', u'Saudi', u'Arabia', u'with', u'158', u',', u'109', u'tonnes', u'of', u'barley', u',', u'the', u'Soviet', u'Union', u'147', u',', u'214', u'of', u'wheat', u',', u'Italy', u'104', u',', u'704', u'of', u'wheat', u',', u'Spain', u'91', u',', u'381', u'of', u'wheat', u'and', u'maize', u',', u'China', u'52', u',', u'500', u'of', u'wheat', u'and', u'Algeria', u'41', u',', u'000', u'of', u'wheat', u'.']\n",
      "41865\n",
      "[u'FRANCE', u'SOLD', u'WHEAT', u'FLOUR', u'TO', u'CHINA', u'-', u'ONIC', u'France', u'has', u'sold', u'between', u'50', u',', u'000', u'to', u'100', u',', u'000', u'tonnes', u'of', u'wheat', u'flour', u'to', u'China', u',', u'the', u'Director', u'General', u'of', u'France', u\"'\", u's', u'Cereal', u'Intervention', u'Board', u'(', u'ONIC', u')', u'Bernard', u'Vieux', u'said', u'.']\n",
      "76508\n",
      "[u'FRANCE', u'SOLD', u'WHEAT', u'FLOUR', u'TO', u'CHINA', u'-', u'ONIC', u'France', u'has', u'sold', u'between', u'50', u',', u'000', u'to', u'100', u',', u'000', u'tonnes', u'of', u'wheat', u'flour', u'to', u'China', u',', u'the', u'Director', u'General', u'of', u'France', u\"'\", u's', u'Cereal', u'Intervention', u'Board', u'(', u'ONIC', u')', u'Bernard', u'Vieux', u'said', u'.']\n",
      "12882\n",
      "[u'The', u'137', u',', u'000', u'tonnes', u'comprised', u'59', u',', u'500', u'tonnes', u'of', u'wheat', u'for', u'China', u',', u'53', u',', u'000', u'of', u'wheat', u'for', u'the', u'Soviet', u'Union', u'and', u'24', u',', u'500', u'of', u'wheat', u'for', u'Algeria', u'.']\n",
      "17982\n",
      "[u'The', u'137', u',', u'000', u'tonnes', u'comprised', u'59', u',', u'500', u'tonnes', u'of', u'wheat', u'for', u'China', u',', u'53', u',', u'000', u'of', u'wheat', u'for', u'the', u'Soviet', u'Union', u'and', u'24', u',', u'500', u'of', u'wheat', u'for', u'Algeria', u'.']\n",
      "42427\n",
      "[u'The', u'137', u',', u'000', u'tonnes', u'comprised', u'59', u',', u'500', u'tonnes', u'of', u'wheat', u'for', u'China', u',', u'53', u',', u'000', u'of', u'wheat', u'for', u'the', u'Soviet', u'Union', u'and', u'24', u',', u'500', u'of', u'wheat', u'for', u'Algeria', u'.']\n",
      "59674\n",
      "[u'The', u'137', u',', u'000', u'tonnes', u'comprised', u'59', u',', u'500', u'tonnes', u'of', u'wheat', u'for', u'China', u',', u'53', u',', u'000', u'of', u'wheat', u'for', u'the', u'Soviet', u'Union', u'and', u'24', u',', u'500', u'of', u'wheat', u'for', u'Algeria', u'.']\n",
      "61377\n",
      "[u'The', u'137', u',', u'000', u'tonnes', u'comprised', u'59', u',', u'500', u'tonnes', u'of', u'wheat', u'for', u'China', u',', u'53', u',', u'000', u'of', u'wheat', u'for', u'the', u'Soviet', u'Union', u'and', u'24', u',', u'500', u'of', u'wheat', u'for', u'Algeria', u'.']\n",
      "76791\n",
      "[u'The', u'137', u',', u'000', u'tonnes', u'comprised', u'59', u',', u'500', u'tonnes', u'of', u'wheat', u'for', u'China', u',', u'53', u',', u'000', u'of', u'wheat', u'for', u'the', u'Soviet', u'Union', u'and', u'24', u',', u'500', u'of', u'wheat', u'for', u'Algeria', u'.']\n",
      "41846\n",
      "[u'It', u'stressed', u'the', u'need', u'to', u'segregate', u'wheat', u'categories', u'at', u'every', u'stage', u'from', u'receival', u'to', u'shipping', u'.']\n",
      "76493\n",
      "[u'It', u'stressed', u'the', u'need', u'to', u'segregate', u'wheat', u'categories', u'at', u'every', u'stage', u'from', u'receival', u'to', u'shipping', u'.']\n",
      "40771\n",
      "[u'SHIP', u'PREPARES', u'TO', u'LOAD', u'WHEAT', u'FOR', u'FIJI', u'AT', u'GEELONG', u'The', u'French', u'ship', u'Capitaine', u'Wallis', u',', u'13', u',', u'847', u'dwt', u',', u'berthed', u'at', u'the', u'port', u'of', u'Geelong', u'in', u'Victoria', u'today', u'to', u'load', u'8', u',', u'000', u'tonnes', u'of', u'urgently', u'needed', u'wheat', u'for', u'Fiji', u'after', u'Australian', u'port', u'unions', u'partly', u'lifted', u'a', u'trade', u'embargo', u',', u'shipping', u'sources', u'said', u'.']\n",
      "63402\n",
      "[u'SHIP', u'PREPARES', u'TO', u'LOAD', u'WHEAT', u'FOR', u'FIJI', u'AT', u'GEELONG', u'The', u'French', u'ship', u'Capitaine', u'Wallis', u',', u'13', u',', u'847', u'dwt', u',', u'berthed', u'at', u'the', u'port', u'of', u'Geelong', u'in', u'Victoria', u'today', u'to', u'load', u'8', u',', u'000', u'tonnes', u'of', u'urgently', u'needed', u'wheat', u'for', u'Fiji', u'after', u'Australian', u'port', u'unions', u'partly', u'lifted', u'a', u'trade', u'embargo', u',', u'shipping', u'sources', u'said', u'.']\n",
      "75941\n",
      "[u'SHIP', u'PREPARES', u'TO', u'LOAD', u'WHEAT', u'FOR', u'FIJI', u'AT', u'GEELONG', u'The', u'French', u'ship', u'Capitaine', u'Wallis', u',', u'13', u',', u'847', u'dwt', u',', u'berthed', u'at', u'the', u'port', u'of', u'Geelong', u'in', u'Victoria', u'today', u'to', u'load', u'8', u',', u'000', u'tonnes', u'of', u'urgently', u'needed', u'wheat', u'for', u'Fiji', u'after', u'Australian', u'port', u'unions', u'partly', u'lifted', u'a', u'trade', u'embargo', u',', u'shipping', u'sources', u'said', u'.']\n",
      "41669\n",
      "[u'Bahia', u'Blanca', u'-', u'Wheat', u'161', u',', u'360', u'.']\n",
      "59445\n",
      "[u'Bahia', u'Blanca', u'-', u'Wheat', u'161', u',', u'360', u'.']\n",
      "64125\n",
      "[u'Bahia', u'Blanca', u'-', u'Wheat', u'161', u',', u'360', u'.']\n",
      "12699\n",
      "[u'ALL', u'WHEAT', u'1986', u'/', u'87', u'1985', u'/', u'86', u'(', u'cont', u'.)']\n",
      "17270\n",
      "[u'ALL', u'WHEAT', u'1986', u'/', u'87', u'1985', u'/', u'86', u'(', u'cont', u'.)']\n",
      "18986\n",
      "[u'ALL', u'WHEAT', u'1986', u'/', u'87', u'1985', u'/', u'86', u'(', u'cont', u'.)']\n",
      "40430\n",
      "[u'ALL', u'WHEAT', u'1986', u'/', u'87', u'1985', u'/', u'86', u'(', u'cont', u'.)']\n",
      "50833\n",
      "[u'ALL', u'WHEAT', u'1986', u'/', u'87', u'1985', u'/', u'86', u'(', u'cont', u'.)']\n",
      "58789\n",
      "[u'ALL', u'WHEAT', u'1986', u'/', u'87', u'1985', u'/', u'86', u'(', u'cont', u'.)']\n",
      "59069\n",
      "[u'ALL', u'WHEAT', u'1986', u'/', u'87', u'1985', u'/', u'86', u'(', u'cont', u'.)']\n",
      "62333\n",
      "[u'ALL', u'WHEAT', u'1986', u'/', u'87', u'1985', u'/', u'86', u'(', u'cont', u'.)']\n",
      "65500\n",
      "[u'ALL', u'WHEAT', u'1986', u'/', u'87', u'1985', u'/', u'86', u'(', u'cont', u'.)']\n",
      "65900\n",
      "[u'ALL', u'WHEAT', u'1986', u'/', u'87', u'1985', u'/', u'86', u'(', u'cont', u'.)']\n",
      "66209\n",
      "[u'ALL', u'WHEAT', u'1986', u'/', u'87', u'1985', u'/', u'86', u'(', u'cont', u'.)']\n",
      "66544\n",
      "[u'ALL', u'WHEAT', u'1986', u'/', u'87', u'1985', u'/', u'86', u'(', u'cont', u'.)']\n",
      "74705\n",
      "[u'ALL', u'WHEAT', u'1986', u'/', u'87', u'1985', u'/', u'86', u'(', u'cont', u'.)']\n",
      "75774\n",
      "[u'ALL', u'WHEAT', u'1986', u'/', u'87', u'1985', u'/', u'86', u'(', u'cont', u'.)']\n",
      "18908\n",
      "[u'WHEAT', u'HRW', u'HRS', u'SRW', u'SWW', u'DURUM', u'Chicago', u'--', u'3', u'.', u'04', u'2', u'.', u'98', u'--', u'--', u'Ill', u'.', u'Track', u'--', u'--', u'3', u'.', u'16', u'--', u'--', u'Toledo', u'--', u'3', u'.', u'04', u'2', u'.', u'98', u'2', u'.', u'90', u'--', u'Memphis', u'--', u'--', u'3', u'.', u'05', u'--', u'--', u'Peoria', u'--', u'--', u'3', u'.', u'11', u'--', u'--', u'Denver', u'2', u'.', u'62', u'2', u'.', u'63', u'--', u'--', u'--', u'Evansville', u'--', u'--', u'2', u'.', u'99', u'--', u'--', u'Cincinnati', u'--', u'--', u'2', u'.', u'96', u'--', u'--', u'Minneapolis', u'2', u'.', u'65', u'2', u'.', u'71', u'--', u'--', u'3', u'.', u'70', u'Baltimore', u'/', u'Norf', u'./', u'Phil', u'.']\n",
      "44169\n",
      "[u'WHEAT', u'HRW', u'HRS', u'SRW', u'SWW', u'DURUM', u'Chicago', u'--', u'3', u'.', u'04', u'2', u'.', u'98', u'--', u'--', u'Ill', u'.', u'Track', u'--', u'--', u'3', u'.', u'16', u'--', u'--', u'Toledo', u'--', u'3', u'.', u'04', u'2', u'.', u'98', u'2', u'.', u'90', u'--', u'Memphis', u'--', u'--', u'3', u'.', u'05', u'--', u'--', u'Peoria', u'--', u'--', u'3', u'.', u'11', u'--', u'--', u'Denver', u'2', u'.', u'62', u'2', u'.', u'63', u'--', u'--', u'--', u'Evansville', u'--', u'--', u'2', u'.', u'99', u'--', u'--', u'Cincinnati', u'--', u'--', u'2', u'.', u'96', u'--', u'--', u'Minneapolis', u'2', u'.', u'65', u'2', u'.', u'71', u'--', u'--', u'3', u'.', u'70', u'Baltimore', u'/', u'Norf', u'./', u'Phil', u'.']\n",
      "58911\n",
      "[u'WHEAT', u'HRW', u'HRS', u'SRW', u'SWW', u'DURUM', u'Chicago', u'--', u'3', u'.', u'04', u'2', u'.', u'98', u'--', u'--', u'Ill', u'.', u'Track', u'--', u'--', u'3', u'.', u'16', u'--', u'--', u'Toledo', u'--', u'3', u'.', u'04', u'2', u'.', u'98', u'2', u'.', u'90', u'--', u'Memphis', u'--', u'--', u'3', u'.', u'05', u'--', u'--', u'Peoria', u'--', u'--', u'3', u'.', u'11', u'--', u'--', u'Denver', u'2', u'.', u'62', u'2', u'.', u'63', u'--', u'--', u'--', u'Evansville', u'--', u'--', u'2', u'.', u'99', u'--', u'--', u'Cincinnati', u'--', u'--', u'2', u'.', u'96', u'--', u'--', u'Minneapolis', u'2', u'.', u'65', u'2', u'.', u'71', u'--', u'--', u'3', u'.', u'70', u'Baltimore', u'/', u'Norf', u'./', u'Phil', u'.']\n",
      "60276\n",
      "[u'WHEAT', u'HRW', u'HRS', u'SRW', u'SWW', u'DURUM', u'Chicago', u'--', u'3', u'.', u'04', u'2', u'.', u'98', u'--', u'--', u'Ill', u'.', u'Track', u'--', u'--', u'3', u'.', u'16', u'--', u'--', u'Toledo', u'--', u'3', u'.', u'04', u'2', u'.', u'98', u'2', u'.', u'90', u'--', u'Memphis', u'--', u'--', u'3', u'.', u'05', u'--', u'--', u'Peoria', u'--', u'--', u'3', u'.', u'11', u'--', u'--', u'Denver', u'2', u'.', u'62', u'2', u'.', u'63', u'--', u'--', u'--', u'Evansville', u'--', u'--', u'2', u'.', u'99', u'--', u'--', u'Cincinnati', u'--', u'--', u'2', u'.', u'96', u'--', u'--', u'Minneapolis', u'2', u'.', u'65', u'2', u'.', u'71', u'--', u'--', u'3', u'.', u'70', u'Baltimore', u'/', u'Norf', u'./', u'Phil', u'.']\n",
      "63273\n",
      "[u'WHEAT', u'HRW', u'HRS', u'SRW', u'SWW', u'DURUM', u'Chicago', u'--', u'3', u'.', u'04', u'2', u'.', u'98', u'--', u'--', u'Ill', u'.', u'Track', u'--', u'--', u'3', u'.', u'16', u'--', u'--', u'Toledo', u'--', u'3', u'.', u'04', u'2', u'.', u'98', u'2', u'.', u'90', u'--', u'Memphis', u'--', u'--', u'3', u'.', u'05', u'--', u'--', u'Peoria', u'--', u'--', u'3', u'.', u'11', u'--', u'--', u'Denver', u'2', u'.', u'62', u'2', u'.', u'63', u'--', u'--', u'--', u'Evansville', u'--', u'--', u'2', u'.', u'99', u'--', u'--', u'Cincinnati', u'--', u'--', u'2', u'.', u'96', u'--', u'--', u'Minneapolis', u'2', u'.', u'65', u'2', u'.', u'71', u'--', u'--', u'3', u'.', u'70', u'Baltimore', u'/', u'Norf', u'./', u'Phil', u'.']\n",
      "65840\n",
      "[u'WHEAT', u'HRW', u'HRS', u'SRW', u'SWW', u'DURUM', u'Chicago', u'--', u'3', u'.', u'04', u'2', u'.', u'98', u'--', u'--', u'Ill', u'.', u'Track', u'--', u'--', u'3', u'.', u'16', u'--', u'--', u'Toledo', u'--', u'3', u'.', u'04', u'2', u'.', u'98', u'2', u'.', u'90', u'--', u'Memphis', u'--', u'--', u'3', u'.', u'05', u'--', u'--', u'Peoria', u'--', u'--', u'3', u'.', u'11', u'--', u'--', u'Denver', u'2', u'.', u'62', u'2', u'.', u'63', u'--', u'--', u'--', u'Evansville', u'--', u'--', u'2', u'.', u'99', u'--', u'--', u'Cincinnati', u'--', u'--', u'2', u'.', u'96', u'--', u'--', u'Minneapolis', u'2', u'.', u'65', u'2', u'.', u'71', u'--', u'--', u'3', u'.', u'70', u'Baltimore', u'/', u'Norf', u'./', u'Phil', u'.']\n",
      "67486\n",
      "[u'WHEAT', u'HRW', u'HRS', u'SRW', u'SWW', u'DURUM', u'Chicago', u'--', u'3', u'.', u'04', u'2', u'.', u'98', u'--', u'--', u'Ill', u'.', u'Track', u'--', u'--', u'3', u'.', u'16', u'--', u'--', u'Toledo', u'--', u'3', u'.', u'04', u'2', u'.', u'98', u'2', u'.', u'90', u'--', u'Memphis', u'--', u'--', u'3', u'.', u'05', u'--', u'--', u'Peoria', u'--', u'--', u'3', u'.', u'11', u'--', u'--', u'Denver', u'2', u'.', u'62', u'2', u'.', u'63', u'--', u'--', u'--', u'Evansville', u'--', u'--', u'2', u'.', u'99', u'--', u'--', u'Cincinnati', u'--', u'--', u'2', u'.', u'96', u'--', u'--', u'Minneapolis', u'2', u'.', u'65', u'2', u'.', u'71', u'--', u'--', u'3', u'.', u'70', u'Baltimore', u'/', u'Norf', u'./', u'Phil', u'.']\n",
      "77541\n",
      "[u'WHEAT', u'HRW', u'HRS', u'SRW', u'SWW', u'DURUM', u'Chicago', u'--', u'3', u'.', u'04', u'2', u'.', u'98', u'--', u'--', u'Ill', u'.', u'Track', u'--', u'--', u'3', u'.', u'16', u'--', u'--', u'Toledo', u'--', u'3', u'.', u'04', u'2', u'.', u'98', u'2', u'.', u'90', u'--', u'Memphis', u'--', u'--', u'3', u'.', u'05', u'--', u'--', u'Peoria', u'--', u'--', u'3', u'.', u'11', u'--', u'--', u'Denver', u'2', u'.', u'62', u'2', u'.', u'63', u'--', u'--', u'--', u'Evansville', u'--', u'--', u'2', u'.', u'99', u'--', u'--', u'Cincinnati', u'--', u'--', u'2', u'.', u'96', u'--', u'--', u'Minneapolis', u'2', u'.', u'65', u'2', u'.', u'71', u'--', u'--', u'3', u'.', u'70', u'Baltimore', u'/', u'Norf', u'./', u'Phil', u'.']\n",
      "17650\n",
      "[u'Winter', u'Wheat', u'-', u'fair', u'to', u'good', u'condition', u'.']\n",
      "41376\n",
      "[u'Winter', u'Wheat', u'-', u'fair', u'to', u'good', u'condition', u'.']\n",
      "76238\n",
      "[u'Winter', u'Wheat', u'-', u'fair', u'to', u'good', u'condition', u'.']\n",
      "71894\n",
      "[u'Wheat', u'Associates', u'.']\n",
      "43569\n",
      "[u'--', u'Revising', u'the', u'definition', u'of', u'sample', u'grade', u'for', u'wheat', u'by', u'adding', u'a', u'limit', u'of', u'32', u'insect', u'-', u'damaged', u'kernels', u'per', u'100', u'grams', u'of', u'wheat', u'.']\n",
      "41670\n",
      "[u'Buenos', u'Aires', u'-', u'Maize', u'104', u',', u'304', u',', u'Wheat', u'14', u',', u'330', u'.']\n",
      "59446\n",
      "[u'Buenos', u'Aires', u'-', u'Maize', u'104', u',', u'304', u',', u'Wheat', u'14', u',', u'330', u'.']\n",
      "64126\n",
      "[u'Buenos', u'Aires', u'-', u'Maize', u'104', u',', u'304', u',', u'Wheat', u'14', u',', u'330', u'.']\n",
      "41480\n",
      "[u'At', u'the', u'same', u'time', u',', u'CFTC', u'proposed', u'leaving', u'KCBT', u\"'\", u's', u'wheat', u'speculative', u'position', u'limits', u'unchanged', u'.']\n",
      "76327\n",
      "[u'At', u'the', u'same', u'time', u',', u'CFTC', u'proposed', u'leaving', u'KCBT', u\"'\", u's', u'wheat', u'speculative', u'position', u'limits', u'unchanged', u'.']\n",
      "41852\n",
      "[u'Similarly', u',', u'southern', u'NSW', u'wheat', u'might', u'better', u'be', u'shipped', u'to', u'Portland', u'or', u'Geelong', u',', u'in', u'Victoria', u'.']\n",
      "76499\n",
      "[u'Similarly', u',', u'southern', u'NSW', u'wheat', u'might', u'better', u'be', u'shipped', u'to', u'Portland', u'or', u'Geelong', u',', u'in', u'Victoria', u'.']\n",
      "42492\n",
      "[u'The', u'bill', u'contains', u'a', u'provision', u'implementing', u'a', u'0', u'/', u'92', u'acreage', u'reduction', u'plan', u'for', u'1986', u'wheat', u'and', u'1987', u'winter', u'wheat', u',', u'thereby', u'making', u'payments', u'available', u'to', u'farmers', u'who', u'were', u'not', u'able', u'to', u'plant', u'last', u'year', u\"'\", u's', u'winter', u'wheat', u'crop', u'because', u'of', u'flooding', u'.']\n",
      "76846\n",
      "[u'The', u'bill', u'contains', u'a', u'provision', u'implementing', u'a', u'0', u'/', u'92', u'acreage', u'reduction', u'plan', u'for', u'1986', u'wheat', u'and', u'1987', u'winter', u'wheat', u',', u'thereby', u'making', u'payments', u'available', u'to', u'farmers', u'who', u'were', u'not', u'able', u'to', u'plant', u'last', u'year', u\"'\", u's', u'winter', u'wheat', u'crop', u'because', u'of', u'flooding', u'.']\n",
      "42901\n",
      "[u'PANAMANIAN', u'WHEAT', u'SHIP', u'STILL', u'GROUNDED', u'OFF', u'SYRIA', u'The', u'Panamanian', u'bulk', u'carrier', u'Juvena', u'is', u'still', u'aground', u'outside', u'Tartous', u',', u'Syria', u',', u'despite', u'discharging', u'6', u',', u'400', u'tons', u'of', u'its', u'39', u',', u'000', u'-', u'ton', u'cargo', u'of', u'wheat', u',', u'and', u'water', u'has', u'entered', u'the', u'engine', u'-', u'room', u'due', u'to', u'a', u'crack', u'in', u'the', u'vessel', u'bottom', u',', u'Lloyds', u'Shipping', u'Intelligence', u'Service', u'said', u'.']\n",
      "64644\n",
      "[u'PANAMANIAN', u'WHEAT', u'SHIP', u'STILL', u'GROUNDED', u'OFF', u'SYRIA', u'The', u'Panamanian', u'bulk', u'carrier', u'Juvena', u'is', u'still', u'aground', u'outside', u'Tartous', u',', u'Syria', u',', u'despite', u'discharging', u'6', u',', u'400', u'tons', u'of', u'its', u'39', u',', u'000', u'-', u'ton', u'cargo', u'of', u'wheat', u',', u'and', u'water', u'has', u'entered', u'the', u'engine', u'-', u'room', u'due', u'to', u'a', u'crack', u'in', u'the', u'vessel', u'bottom', u',', u'Lloyds', u'Shipping', u'Intelligence', u'Service', u'said', u'.']\n",
      "77014\n",
      "[u'PANAMANIAN', u'WHEAT', u'SHIP', u'STILL', u'GROUNDED', u'OFF', u'SYRIA', u'The', u'Panamanian', u'bulk', u'carrier', u'Juvena', u'is', u'still', u'aground', u'outside', u'Tartous', u',', u'Syria', u',', u'despite', u'discharging', u'6', u',', u'400', u'tons', u'of', u'its', u'39', u',', u'000', u'-', u'ton', u'cargo', u'of', u'wheat', u',', u'and', u'water', u'has', u'entered', u'the', u'engine', u'-', u'room', u'due', u'to', u'a', u'crack', u'in', u'the', u'vessel', u'bottom', u',', u'Lloyds', u'Shipping', u'Intelligence', u'Service', u'said', u'.']\n",
      "40775\n",
      "[u'The', u'ban', u'had', u'threatened', u'food', u'shortages', u'of', u'imported', u'wheat', u',', u'fresh', u'vegetables', u'and', u'medicines', u'.']\n",
      "62449\n",
      "[u'The', u'ban', u'had', u'threatened', u'food', u'shortages', u'of', u'imported', u'wheat', u',', u'fresh', u'vegetables', u'and', u'medicines', u'.']\n",
      "75945\n",
      "[u'The', u'ban', u'had', u'threatened', u'food', u'shortages', u'of', u'imported', u'wheat', u',', u'fresh', u'vegetables', u'and', u'medicines', u'.']\n",
      "42148\n",
      "[u'However', u',', u'it', u'decided', u'to', u'leave', u'consideration', u'of', u'the', u'release', u'of', u'further', u'wheat', u'until', u'later', u'.']\n",
      "76654\n",
      "[u'However', u',', u'it', u'decided', u'to', u'leave', u'consideration', u'of', u'the', u'release', u'of', u'further', u'wheat', u'until', u'later', u'.']\n",
      "41671\n",
      "[u'Rosario', u'-', u'Wheat', u'50', u',', u'400', u',', u'maize', u'157', u',', u'040', u',', u'subproducts', u'50', u',', u'100', u',', u'sunflowerseed', u'1', u',', u'000', u'and', u'millet', u'3', u',', u'100', u'.']\n",
      "59447\n",
      "[u'Rosario', u'-', u'Wheat', u'50', u',', u'400', u',', u'maize', u'157', u',', u'040', u',', u'subproducts', u'50', u',', u'100', u',', u'sunflowerseed', u'1', u',', u'000', u'and', u'millet', u'3', u',', u'100', u'.']\n",
      "64127\n",
      "[u'Rosario', u'-', u'Wheat', u'50', u',', u'400', u',', u'maize', u'157', u',', u'040', u',', u'subproducts', u'50', u',', u'100', u',', u'sunflowerseed', u'1', u',', u'000', u'and', u'millet', u'3', u',', u'100', u'.']\n",
      "41876\n",
      "[u'France', u'sold', u'around', u'250', u',', u'000', u'tonnes', u'of', u'soft', u'wheat', u'to', u'China', u'in', u'1985', u'/', u'86', u',', u'according', u'to', u'customs', u'figures', u'.']\n",
      "64181\n",
      "[u'France', u'sold', u'around', u'250', u',', u'000', u'tonnes', u'of', u'soft', u'wheat', u'to', u'China', u'in', u'1985', u'/', u'86', u',', u'according', u'to', u'customs', u'figures', u'.']\n",
      "76519\n",
      "[u'France', u'sold', u'around', u'250', u',', u'000', u'tonnes', u'of', u'soft', u'wheat', u'to', u'China', u'in', u'1985', u'/', u'86', u',', u'according', u'to', u'customs', u'figures', u'.']\n",
      "12701\n",
      "[u'Wheat', u'season', u'begins', u'June', u'1', u'.']\n",
      "17272\n",
      "[u'Wheat', u'season', u'begins', u'June', u'1', u'.']\n",
      "18009\n",
      "[u'The', u'wheat', u'season', u'begins', u'June', u'1', u'.']\n",
      "18988\n",
      "[u'Wheat', u'season', u'begins', u'June', u'1', u'.']\n",
      "40432\n",
      "[u'Wheat', u'season', u'begins', u'June', u'1', u'.']\n",
      "42485\n",
      "[u'The', u'wheat', u'season', u'begins', u'June', u'1', u'.']\n",
      "50835\n",
      "[u'Wheat', u'season', u'begins', u'June', u'1', u'.']\n",
      "58791\n",
      "[u'Wheat', u'season', u'begins', u'June', u'1', u'.']\n",
      "59071\n",
      "[u'Wheat', u'season', u'begins', u'June', u'1', u'.']\n",
      "59703\n",
      "[u'The', u'wheat', u'season', u'begins', u'June', u'1', u'.']\n",
      "62335\n",
      "[u'Wheat', u'season', u'begins', u'June', u'1', u'.']\n",
      "65502\n",
      "[u'Wheat', u'season', u'begins', u'June', u'1', u'.']\n",
      "65902\n",
      "[u'Wheat', u'season', u'begins', u'June', u'1', u'.']\n",
      "66211\n",
      "[u'Wheat', u'season', u'begins', u'June', u'1', u'.']\n",
      "66546\n",
      "[u'Wheat', u'season', u'begins', u'June', u'1', u'.']\n"
     ]
    }
   ],
   "source": [
    "ids = test_search(\"rye\", lsi_bow, index_bow)"
   ]
  },
  {
   "cell_type": "code",
   "execution_count": 24,
   "metadata": {
    "collapsed": false
   },
   "outputs": [
    {
     "name": "stdout",
     "output_type": "stream",
     "text": [
      "[12833, 17728, 41650, 59430, 61342, 64110, 76397, 12883, 17983, 42428, 59675, 61378, 76792, 12880, 17980, 42425, 59672, 61375, 76789, 41865, 76508, 12882, 17982, 42427, 59674, 61377, 76791, 41846, 76493, 40771, 63402, 75941, 41669, 59445, 64125, 12699, 17270, 18986, 40430, 50833, 58789, 59069, 62333, 65500, 65900, 66209, 66544, 74705, 75774, 18908]\n"
     ]
    }
   ],
   "source": [
    "print ids"
   ]
  },
  {
   "cell_type": "code",
   "execution_count": 146,
   "metadata": {
    "collapsed": false
   },
   "outputs": [
    {
     "name": "stdout",
     "output_type": "stream",
     "text": [
      "12793\n",
      "[u'The', u'test', u'gave', u'ratings', u'expressed', u'as', u'a', u'factor', u'of', u'100', u',', u'as', u'follows', u'-', u'winter', u'wheat', u'96', u'(', u'last', u'year', u'91', u'),', u'winter', u'rye', u'97', u'(', u'98', u'),', u'winter', u'barley', u'92', u'(', u'90', u'),', u'spring', u'barley', u'94', u'(', u'98', u'),', u'oats', u'96', u'(', u'98', u'),', u'fodder', u'and', u'sugar', u'beets', u'87', u'(', u'96', u'),', u'winter', u'rapeseed', u'98', u'(', u'94', u'),', u'spring', u'rapeseed', u'94', u'(', u'98', u').']\n",
      "40946\n",
      "[u'The', u'test', u'gave', u'ratings', u'expressed', u'as', u'a', u'factor', u'of', u'100', u',', u'as', u'follows', u'-', u'winter', u'wheat', u'96', u'(', u'last', u'year', u'91', u'),', u'winter', u'rye', u'97', u'(', u'98', u'),', u'winter', u'barley', u'92', u'(', u'90', u'),', u'spring', u'barley', u'94', u'(', u'98', u'),', u'oats', u'96', u'(', u'98', u'),', u'fodder', u'and', u'sugar', u'beets', u'87', u'(', u'96', u'),', u'winter', u'rapeseed', u'98', u'(', u'94', u'),', u'spring', u'rapeseed', u'94', u'(', u'98', u').']\n",
      "58870\n",
      "[u'The', u'test', u'gave', u'ratings', u'expressed', u'as', u'a', u'factor', u'of', u'100', u',', u'as', u'follows', u'-', u'winter', u'wheat', u'96', u'(', u'last', u'year', u'91', u'),', u'winter', u'rye', u'97', u'(', u'98', u'),', u'winter', u'barley', u'92', u'(', u'90', u'),', u'spring', u'barley', u'94', u'(', u'98', u'),', u'oats', u'96', u'(', u'98', u'),', u'fodder', u'and', u'sugar', u'beets', u'87', u'(', u'96', u'),', u'winter', u'rapeseed', u'98', u'(', u'94', u'),', u'spring', u'rapeseed', u'94', u'(', u'98', u').']\n",
      "59244\n",
      "[u'The', u'test', u'gave', u'ratings', u'expressed', u'as', u'a', u'factor', u'of', u'100', u',', u'as', u'follows', u'-', u'winter', u'wheat', u'96', u'(', u'last', u'year', u'91', u'),', u'winter', u'rye', u'97', u'(', u'98', u'),', u'winter', u'barley', u'92', u'(', u'90', u'),', u'spring', u'barley', u'94', u'(', u'98', u'),', u'oats', u'96', u'(', u'98', u'),', u'fodder', u'and', u'sugar', u'beets', u'87', u'(', u'96', u'),', u'winter', u'rapeseed', u'98', u'(', u'94', u'),', u'spring', u'rapeseed', u'94', u'(', u'98', u').']\n",
      "61326\n",
      "[u'The', u'test', u'gave', u'ratings', u'expressed', u'as', u'a', u'factor', u'of', u'100', u',', u'as', u'follows', u'-', u'winter', u'wheat', u'96', u'(', u'last', u'year', u'91', u'),', u'winter', u'rye', u'97', u'(', u'98', u'),', u'winter', u'barley', u'92', u'(', u'90', u'),', u'spring', u'barley', u'94', u'(', u'98', u'),', u'oats', u'96', u'(', u'98', u'),', u'fodder', u'and', u'sugar', u'beets', u'87', u'(', u'96', u'),', u'winter', u'rapeseed', u'98', u'(', u'94', u'),', u'spring', u'rapeseed', u'94', u'(', u'98', u').']\n",
      "63268\n",
      "[u'The', u'test', u'gave', u'ratings', u'expressed', u'as', u'a', u'factor', u'of', u'100', u',', u'as', u'follows', u'-', u'winter', u'wheat', u'96', u'(', u'last', u'year', u'91', u'),', u'winter', u'rye', u'97', u'(', u'98', u'),', u'winter', u'barley', u'92', u'(', u'90', u'),', u'spring', u'barley', u'94', u'(', u'98', u'),', u'oats', u'96', u'(', u'98', u'),', u'fodder', u'and', u'sugar', u'beets', u'87', u'(', u'96', u'),', u'winter', u'rapeseed', u'98', u'(', u'94', u'),', u'spring', u'rapeseed', u'94', u'(', u'98', u').']\n",
      "67919\n",
      "[u'The', u'test', u'gave', u'ratings', u'expressed', u'as', u'a', u'factor', u'of', u'100', u',', u'as', u'follows', u'-', u'winter', u'wheat', u'96', u'(', u'last', u'year', u'91', u'),', u'winter', u'rye', u'97', u'(', u'98', u'),', u'winter', u'barley', u'92', u'(', u'90', u'),', u'spring', u'barley', u'94', u'(', u'98', u'),', u'oats', u'96', u'(', u'98', u'),', u'fodder', u'and', u'sugar', u'beets', u'87', u'(', u'96', u'),', u'winter', u'rapeseed', u'98', u'(', u'94', u'),', u'spring', u'rapeseed', u'94', u'(', u'98', u').']\n",
      "76003\n",
      "[u'The', u'test', u'gave', u'ratings', u'expressed', u'as', u'a', u'factor', u'of', u'100', u',', u'as', u'follows', u'-', u'winter', u'wheat', u'96', u'(', u'last', u'year', u'91', u'),', u'winter', u'rye', u'97', u'(', u'98', u'),', u'winter', u'barley', u'92', u'(', u'90', u'),', u'spring', u'barley', u'94', u'(', u'98', u'),', u'oats', u'96', u'(', u'98', u'),', u'fodder', u'and', u'sugar', u'beets', u'87', u'(', u'96', u'),', u'winter', u'rapeseed', u'98', u'(', u'94', u'),', u'spring', u'rapeseed', u'94', u'(', u'98', u').']\n",
      "12833\n",
      "[u'The', u'Soviet', u'Union', u'took', u'263', u',', u'051', u'tonnes', u'of', u'wheat', u'and', u'barley', u',', u'Saudi', u'Arabia', u'90', u',', u'944', u'tonnes', u'barley', u',', u'China', u'87', u',', u'259', u'wheat', u',', u'Algeria', u'64', u',', u'896', u'wheat', u',', u'Bangladesh', u'30', u',', u'000', u'wheat', u',', u'Morocco', u'27', u',', u'500', u'maize', u',', u'Greece', u'26', u',', u'700', u'wheat', u'and', u'barley', u',', u'Spain', u'25', u',', u'124', u'wheat', u',', u'Poland', u'24', u',', u'683', u'wheat', u',', u'Brazil', u'24', u',', u'082', u'wheat', u',', u'Italy', u'21', u',', u'659', u'wheat', u',', u'Cyprus', u'20', u',', u'700', u'wheat', u'and', u'maize', u',', u'Israel', u'16', u',', u'500', u'maize', u'and', u'the', u'U', u'.', u'K', u'.', u'8', u',', u'797', u'tonnes', u'wheat', u'.']\n",
      "17728\n",
      "[u'The', u'Soviet', u'Union', u'took', u'263', u',', u'051', u'tonnes', u'of', u'wheat', u'and', u'barley', u',', u'Saudi', u'Arabia', u'90', u',', u'944', u'tonnes', u'barley', u',', u'China', u'87', u',', u'259', u'wheat', u',', u'Algeria', u'64', u',', u'896', u'wheat', u',', u'Bangladesh', u'30', u',', u'000', u'wheat', u',', u'Morocco', u'27', u',', u'500', u'maize', u',', u'Greece', u'26', u',', u'700', u'wheat', u'and', u'barley', u',', u'Spain', u'25', u',', u'124', u'wheat', u',', u'Poland', u'24', u',', u'683', u'wheat', u',', u'Brazil', u'24', u',', u'082', u'wheat', u',', u'Italy', u'21', u',', u'659', u'wheat', u',', u'Cyprus', u'20', u',', u'700', u'wheat', u'and', u'maize', u',', u'Israel', u'16', u',', u'500', u'maize', u'and', u'the', u'U', u'.', u'K', u'.', u'8', u',', u'797', u'tonnes', u'wheat', u'.']\n",
      "41650\n",
      "[u'The', u'Soviet', u'Union', u'took', u'263', u',', u'051', u'tonnes', u'of', u'wheat', u'and', u'barley', u',', u'Saudi', u'Arabia', u'90', u',', u'944', u'tonnes', u'barley', u',', u'China', u'87', u',', u'259', u'wheat', u',', u'Algeria', u'64', u',', u'896', u'wheat', u',', u'Bangladesh', u'30', u',', u'000', u'wheat', u',', u'Morocco', u'27', u',', u'500', u'maize', u',', u'Greece', u'26', u',', u'700', u'wheat', u'and', u'barley', u',', u'Spain', u'25', u',', u'124', u'wheat', u',', u'Poland', u'24', u',', u'683', u'wheat', u',', u'Brazil', u'24', u',', u'082', u'wheat', u',', u'Italy', u'21', u',', u'659', u'wheat', u',', u'Cyprus', u'20', u',', u'700', u'wheat', u'and', u'maize', u',', u'Israel', u'16', u',', u'500', u'maize', u'and', u'the', u'U', u'.', u'K', u'.', u'8', u',', u'797', u'tonnes', u'wheat', u'.']\n",
      "59430\n",
      "[u'The', u'Soviet', u'Union', u'took', u'263', u',', u'051', u'tonnes', u'of', u'wheat', u'and', u'barley', u',', u'Saudi', u'Arabia', u'90', u',', u'944', u'tonnes', u'barley', u',', u'China', u'87', u',', u'259', u'wheat', u',', u'Algeria', u'64', u',', u'896', u'wheat', u',', u'Bangladesh', u'30', u',', u'000', u'wheat', u',', u'Morocco', u'27', u',', u'500', u'maize', u',', u'Greece', u'26', u',', u'700', u'wheat', u'and', u'barley', u',', u'Spain', u'25', u',', u'124', u'wheat', u',', u'Poland', u'24', u',', u'683', u'wheat', u',', u'Brazil', u'24', u',', u'082', u'wheat', u',', u'Italy', u'21', u',', u'659', u'wheat', u',', u'Cyprus', u'20', u',', u'700', u'wheat', u'and', u'maize', u',', u'Israel', u'16', u',', u'500', u'maize', u'and', u'the', u'U', u'.', u'K', u'.', u'8', u',', u'797', u'tonnes', u'wheat', u'.']\n",
      "61342\n",
      "[u'The', u'Soviet', u'Union', u'took', u'263', u',', u'051', u'tonnes', u'of', u'wheat', u'and', u'barley', u',', u'Saudi', u'Arabia', u'90', u',', u'944', u'tonnes', u'barley', u',', u'China', u'87', u',', u'259', u'wheat', u',', u'Algeria', u'64', u',', u'896', u'wheat', u',', u'Bangladesh', u'30', u',', u'000', u'wheat', u',', u'Morocco', u'27', u',', u'500', u'maize', u',', u'Greece', u'26', u',', u'700', u'wheat', u'and', u'barley', u',', u'Spain', u'25', u',', u'124', u'wheat', u',', u'Poland', u'24', u',', u'683', u'wheat', u',', u'Brazil', u'24', u',', u'082', u'wheat', u',', u'Italy', u'21', u',', u'659', u'wheat', u',', u'Cyprus', u'20', u',', u'700', u'wheat', u'and', u'maize', u',', u'Israel', u'16', u',', u'500', u'maize', u'and', u'the', u'U', u'.', u'K', u'.', u'8', u',', u'797', u'tonnes', u'wheat', u'.']\n",
      "64110\n",
      "[u'The', u'Soviet', u'Union', u'took', u'263', u',', u'051', u'tonnes', u'of', u'wheat', u'and', u'barley', u',', u'Saudi', u'Arabia', u'90', u',', u'944', u'tonnes', u'barley', u',', u'China', u'87', u',', u'259', u'wheat', u',', u'Algeria', u'64', u',', u'896', u'wheat', u',', u'Bangladesh', u'30', u',', u'000', u'wheat', u',', u'Morocco', u'27', u',', u'500', u'maize', u',', u'Greece', u'26', u',', u'700', u'wheat', u'and', u'barley', u',', u'Spain', u'25', u',', u'124', u'wheat', u',', u'Poland', u'24', u',', u'683', u'wheat', u',', u'Brazil', u'24', u',', u'082', u'wheat', u',', u'Italy', u'21', u',', u'659', u'wheat', u',', u'Cyprus', u'20', u',', u'700', u'wheat', u'and', u'maize', u',', u'Israel', u'16', u',', u'500', u'maize', u'and', u'the', u'U', u'.', u'K', u'.', u'8', u',', u'797', u'tonnes', u'wheat', u'.']\n",
      "76397\n",
      "[u'The', u'Soviet', u'Union', u'took', u'263', u',', u'051', u'tonnes', u'of', u'wheat', u'and', u'barley', u',', u'Saudi', u'Arabia', u'90', u',', u'944', u'tonnes', u'barley', u',', u'China', u'87', u',', u'259', u'wheat', u',', u'Algeria', u'64', u',', u'896', u'wheat', u',', u'Bangladesh', u'30', u',', u'000', u'wheat', u',', u'Morocco', u'27', u',', u'500', u'maize', u',', u'Greece', u'26', u',', u'700', u'wheat', u'and', u'barley', u',', u'Spain', u'25', u',', u'124', u'wheat', u',', u'Poland', u'24', u',', u'683', u'wheat', u',', u'Brazil', u'24', u',', u'082', u'wheat', u',', u'Italy', u'21', u',', u'659', u'wheat', u',', u'Cyprus', u'20', u',', u'700', u'wheat', u'and', u'maize', u',', u'Israel', u'16', u',', u'500', u'maize', u'and', u'the', u'U', u'.', u'K', u'.', u'8', u',', u'797', u'tonnes', u'wheat', u'.']\n",
      "17650\n",
      "[u'Winter', u'Wheat', u'-', u'fair', u'to', u'good', u'condition', u'.']\n",
      "41376\n",
      "[u'Winter', u'Wheat', u'-', u'fair', u'to', u'good', u'condition', u'.']\n",
      "76238\n",
      "[u'Winter', u'Wheat', u'-', u'fair', u'to', u'good', u'condition', u'.']\n",
      "12667\n",
      "[u'It', u'rejected', u'bids', u'for', u'breadmaking', u'and', u'feed', u'wheat', u',', u'they', u'said', u'.']\n",
      "17212\n",
      "[u'It', u'rejected', u'bids', u'for', u'breadmaking', u'and', u'feed', u'wheat', u',', u'they', u'said', u'.']\n",
      "40289\n",
      "[u'It', u'rejected', u'bids', u'for', u'breadmaking', u'and', u'feed', u'wheat', u',', u'they', u'said', u'.']\n",
      "75672\n",
      "[u'It', u'rejected', u'bids', u'for', u'breadmaking', u'and', u'feed', u'wheat', u',', u'they', u'said', u'.']\n",
      "12955\n",
      "[u'All', u'bids', u'for', u'wheat', u'were', u'rejected', u'.']\n",
      "43683\n",
      "[u'All', u'bids', u'for', u'wheat', u'were', u'rejected', u'.']\n",
      "41669\n",
      "[u'Bahia', u'Blanca', u'-', u'Wheat', u'161', u',', u'360', u'.']\n",
      "59445\n",
      "[u'Bahia', u'Blanca', u'-', u'Wheat', u'161', u',', u'360', u'.']\n",
      "64125\n",
      "[u'Bahia', u'Blanca', u'-', u'Wheat', u'161', u',', u'360', u'.']\n",
      "12880\n",
      "[u'Main', u'destinations', u'were', u'Saudi', u'Arabia', u'with', u'158', u',', u'109', u'tonnes', u'of', u'barley', u',', u'the', u'Soviet', u'Union', u'147', u',', u'214', u'of', u'wheat', u',', u'Italy', u'104', u',', u'704', u'of', u'wheat', u',', u'Spain', u'91', u',', u'381', u'of', u'wheat', u'and', u'maize', u',', u'China', u'52', u',', u'500', u'of', u'wheat', u'and', u'Algeria', u'41', u',', u'000', u'of', u'wheat', u'.']\n",
      "17980\n",
      "[u'Main', u'destinations', u'were', u'Saudi', u'Arabia', u'with', u'158', u',', u'109', u'tonnes', u'of', u'barley', u',', u'the', u'Soviet', u'Union', u'147', u',', u'214', u'of', u'wheat', u',', u'Italy', u'104', u',', u'704', u'of', u'wheat', u',', u'Spain', u'91', u',', u'381', u'of', u'wheat', u'and', u'maize', u',', u'China', u'52', u',', u'500', u'of', u'wheat', u'and', u'Algeria', u'41', u',', u'000', u'of', u'wheat', u'.']\n",
      "42425\n",
      "[u'Main', u'destinations', u'were', u'Saudi', u'Arabia', u'with', u'158', u',', u'109', u'tonnes', u'of', u'barley', u',', u'the', u'Soviet', u'Union', u'147', u',', u'214', u'of', u'wheat', u',', u'Italy', u'104', u',', u'704', u'of', u'wheat', u',', u'Spain', u'91', u',', u'381', u'of', u'wheat', u'and', u'maize', u',', u'China', u'52', u',', u'500', u'of', u'wheat', u'and', u'Algeria', u'41', u',', u'000', u'of', u'wheat', u'.']\n",
      "59672\n",
      "[u'Main', u'destinations', u'were', u'Saudi', u'Arabia', u'with', u'158', u',', u'109', u'tonnes', u'of', u'barley', u',', u'the', u'Soviet', u'Union', u'147', u',', u'214', u'of', u'wheat', u',', u'Italy', u'104', u',', u'704', u'of', u'wheat', u',', u'Spain', u'91', u',', u'381', u'of', u'wheat', u'and', u'maize', u',', u'China', u'52', u',', u'500', u'of', u'wheat', u'and', u'Algeria', u'41', u',', u'000', u'of', u'wheat', u'.']\n",
      "61375\n",
      "[u'Main', u'destinations', u'were', u'Saudi', u'Arabia', u'with', u'158', u',', u'109', u'tonnes', u'of', u'barley', u',', u'the', u'Soviet', u'Union', u'147', u',', u'214', u'of', u'wheat', u',', u'Italy', u'104', u',', u'704', u'of', u'wheat', u',', u'Spain', u'91', u',', u'381', u'of', u'wheat', u'and', u'maize', u',', u'China', u'52', u',', u'500', u'of', u'wheat', u'and', u'Algeria', u'41', u',', u'000', u'of', u'wheat', u'.']\n",
      "76789\n",
      "[u'Main', u'destinations', u'were', u'Saudi', u'Arabia', u'with', u'158', u',', u'109', u'tonnes', u'of', u'barley', u',', u'the', u'Soviet', u'Union', u'147', u',', u'214', u'of', u'wheat', u',', u'Italy', u'104', u',', u'704', u'of', u'wheat', u',', u'Spain', u'91', u',', u'381', u'of', u'wheat', u'and', u'maize', u',', u'China', u'52', u',', u'500', u'of', u'wheat', u'and', u'Algeria', u'41', u',', u'000', u'of', u'wheat', u'.']\n",
      "71894\n",
      "[u'Wheat', u'Associates', u'.']\n",
      "18908\n",
      "[u'WHEAT', u'HRW', u'HRS', u'SRW', u'SWW', u'DURUM', u'Chicago', u'--', u'3', u'.', u'04', u'2', u'.', u'98', u'--', u'--', u'Ill', u'.', u'Track', u'--', u'--', u'3', u'.', u'16', u'--', u'--', u'Toledo', u'--', u'3', u'.', u'04', u'2', u'.', u'98', u'2', u'.', u'90', u'--', u'Memphis', u'--', u'--', u'3', u'.', u'05', u'--', u'--', u'Peoria', u'--', u'--', u'3', u'.', u'11', u'--', u'--', u'Denver', u'2', u'.', u'62', u'2', u'.', u'63', u'--', u'--', u'--', u'Evansville', u'--', u'--', u'2', u'.', u'99', u'--', u'--', u'Cincinnati', u'--', u'--', u'2', u'.', u'96', u'--', u'--', u'Minneapolis', u'2', u'.', u'65', u'2', u'.', u'71', u'--', u'--', u'3', u'.', u'70', u'Baltimore', u'/', u'Norf', u'./', u'Phil', u'.']\n",
      "44169\n",
      "[u'WHEAT', u'HRW', u'HRS', u'SRW', u'SWW', u'DURUM', u'Chicago', u'--', u'3', u'.', u'04', u'2', u'.', u'98', u'--', u'--', u'Ill', u'.', u'Track', u'--', u'--', u'3', u'.', u'16', u'--', u'--', u'Toledo', u'--', u'3', u'.', u'04', u'2', u'.', u'98', u'2', u'.', u'90', u'--', u'Memphis', u'--', u'--', u'3', u'.', u'05', u'--', u'--', u'Peoria', u'--', u'--', u'3', u'.', u'11', u'--', u'--', u'Denver', u'2', u'.', u'62', u'2', u'.', u'63', u'--', u'--', u'--', u'Evansville', u'--', u'--', u'2', u'.', u'99', u'--', u'--', u'Cincinnati', u'--', u'--', u'2', u'.', u'96', u'--', u'--', u'Minneapolis', u'2', u'.', u'65', u'2', u'.', u'71', u'--', u'--', u'3', u'.', u'70', u'Baltimore', u'/', u'Norf', u'./', u'Phil', u'.']\n",
      "58911\n",
      "[u'WHEAT', u'HRW', u'HRS', u'SRW', u'SWW', u'DURUM', u'Chicago', u'--', u'3', u'.', u'04', u'2', u'.', u'98', u'--', u'--', u'Ill', u'.', u'Track', u'--', u'--', u'3', u'.', u'16', u'--', u'--', u'Toledo', u'--', u'3', u'.', u'04', u'2', u'.', u'98', u'2', u'.', u'90', u'--', u'Memphis', u'--', u'--', u'3', u'.', u'05', u'--', u'--', u'Peoria', u'--', u'--', u'3', u'.', u'11', u'--', u'--', u'Denver', u'2', u'.', u'62', u'2', u'.', u'63', u'--', u'--', u'--', u'Evansville', u'--', u'--', u'2', u'.', u'99', u'--', u'--', u'Cincinnati', u'--', u'--', u'2', u'.', u'96', u'--', u'--', u'Minneapolis', u'2', u'.', u'65', u'2', u'.', u'71', u'--', u'--', u'3', u'.', u'70', u'Baltimore', u'/', u'Norf', u'./', u'Phil', u'.']\n",
      "60276\n",
      "[u'WHEAT', u'HRW', u'HRS', u'SRW', u'SWW', u'DURUM', u'Chicago', u'--', u'3', u'.', u'04', u'2', u'.', u'98', u'--', u'--', u'Ill', u'.', u'Track', u'--', u'--', u'3', u'.', u'16', u'--', u'--', u'Toledo', u'--', u'3', u'.', u'04', u'2', u'.', u'98', u'2', u'.', u'90', u'--', u'Memphis', u'--', u'--', u'3', u'.', u'05', u'--', u'--', u'Peoria', u'--', u'--', u'3', u'.', u'11', u'--', u'--', u'Denver', u'2', u'.', u'62', u'2', u'.', u'63', u'--', u'--', u'--', u'Evansville', u'--', u'--', u'2', u'.', u'99', u'--', u'--', u'Cincinnati', u'--', u'--', u'2', u'.', u'96', u'--', u'--', u'Minneapolis', u'2', u'.', u'65', u'2', u'.', u'71', u'--', u'--', u'3', u'.', u'70', u'Baltimore', u'/', u'Norf', u'./', u'Phil', u'.']\n",
      "63273\n",
      "[u'WHEAT', u'HRW', u'HRS', u'SRW', u'SWW', u'DURUM', u'Chicago', u'--', u'3', u'.', u'04', u'2', u'.', u'98', u'--', u'--', u'Ill', u'.', u'Track', u'--', u'--', u'3', u'.', u'16', u'--', u'--', u'Toledo', u'--', u'3', u'.', u'04', u'2', u'.', u'98', u'2', u'.', u'90', u'--', u'Memphis', u'--', u'--', u'3', u'.', u'05', u'--', u'--', u'Peoria', u'--', u'--', u'3', u'.', u'11', u'--', u'--', u'Denver', u'2', u'.', u'62', u'2', u'.', u'63', u'--', u'--', u'--', u'Evansville', u'--', u'--', u'2', u'.', u'99', u'--', u'--', u'Cincinnati', u'--', u'--', u'2', u'.', u'96', u'--', u'--', u'Minneapolis', u'2', u'.', u'65', u'2', u'.', u'71', u'--', u'--', u'3', u'.', u'70', u'Baltimore', u'/', u'Norf', u'./', u'Phil', u'.']\n",
      "65840\n",
      "[u'WHEAT', u'HRW', u'HRS', u'SRW', u'SWW', u'DURUM', u'Chicago', u'--', u'3', u'.', u'04', u'2', u'.', u'98', u'--', u'--', u'Ill', u'.', u'Track', u'--', u'--', u'3', u'.', u'16', u'--', u'--', u'Toledo', u'--', u'3', u'.', u'04', u'2', u'.', u'98', u'2', u'.', u'90', u'--', u'Memphis', u'--', u'--', u'3', u'.', u'05', u'--', u'--', u'Peoria', u'--', u'--', u'3', u'.', u'11', u'--', u'--', u'Denver', u'2', u'.', u'62', u'2', u'.', u'63', u'--', u'--', u'--', u'Evansville', u'--', u'--', u'2', u'.', u'99', u'--', u'--', u'Cincinnati', u'--', u'--', u'2', u'.', u'96', u'--', u'--', u'Minneapolis', u'2', u'.', u'65', u'2', u'.', u'71', u'--', u'--', u'3', u'.', u'70', u'Baltimore', u'/', u'Norf', u'./', u'Phil', u'.']\n",
      "67486\n",
      "[u'WHEAT', u'HRW', u'HRS', u'SRW', u'SWW', u'DURUM', u'Chicago', u'--', u'3', u'.', u'04', u'2', u'.', u'98', u'--', u'--', u'Ill', u'.', u'Track', u'--', u'--', u'3', u'.', u'16', u'--', u'--', u'Toledo', u'--', u'3', u'.', u'04', u'2', u'.', u'98', u'2', u'.', u'90', u'--', u'Memphis', u'--', u'--', u'3', u'.', u'05', u'--', u'--', u'Peoria', u'--', u'--', u'3', u'.', u'11', u'--', u'--', u'Denver', u'2', u'.', u'62', u'2', u'.', u'63', u'--', u'--', u'--', u'Evansville', u'--', u'--', u'2', u'.', u'99', u'--', u'--', u'Cincinnati', u'--', u'--', u'2', u'.', u'96', u'--', u'--', u'Minneapolis', u'2', u'.', u'65', u'2', u'.', u'71', u'--', u'--', u'3', u'.', u'70', u'Baltimore', u'/', u'Norf', u'./', u'Phil', u'.']\n",
      "77541\n",
      "[u'WHEAT', u'HRW', u'HRS', u'SRW', u'SWW', u'DURUM', u'Chicago', u'--', u'3', u'.', u'04', u'2', u'.', u'98', u'--', u'--', u'Ill', u'.', u'Track', u'--', u'--', u'3', u'.', u'16', u'--', u'--', u'Toledo', u'--', u'3', u'.', u'04', u'2', u'.', u'98', u'2', u'.', u'90', u'--', u'Memphis', u'--', u'--', u'3', u'.', u'05', u'--', u'--', u'Peoria', u'--', u'--', u'3', u'.', u'11', u'--', u'--', u'Denver', u'2', u'.', u'62', u'2', u'.', u'63', u'--', u'--', u'--', u'Evansville', u'--', u'--', u'2', u'.', u'99', u'--', u'--', u'Cincinnati', u'--', u'--', u'2', u'.', u'96', u'--', u'--', u'Minneapolis', u'2', u'.', u'65', u'2', u'.', u'71', u'--', u'--', u'3', u'.', u'70', u'Baltimore', u'/', u'Norf', u'./', u'Phil', u'.']\n",
      "18593\n",
      "[u'All', u'bids', u'for', u'wheat', u'were', u'rejected', u',', u'they', u'said', u'.']\n",
      "43577\n",
      "[u'All', u'bids', u'for', u'wheat', u'were', u'rejected', u',', u'they', u'said', u'.']\n",
      "77363\n",
      "[u'All', u'bids', u'for', u'wheat', u'were', u'rejected', u',', u'they', u'said', u'.']\n",
      "12883\n",
      "[u'By', u'this', u'Friday', u',', u'sources', u'estimated', u'a', u'further', u'233', u',', u'600', u'tonnes', u'of', u'cereals', u'will', u'have', u'been', u'loaded', u',', u'comprising', u'47', u',', u'000', u'tonnes', u'of', u'barley', u',', u'78', u',', u'600', u'of', u'wheat', u'and', u'25', u',', u'000', u'of', u'rapeseed', u'for', u'the', u'Soviet', u'Union', u',', u'30', u',', u'000', u'of', u'wheat', u'for', u'Sri', u'Lanka', u',', u'28', u',', u'000', u'of', u'wheat', u'for', u'China', u'and', u'25', u',', u'000', u'of', u'wheat', u'for', u'Poland', u'.']\n",
      "17983\n",
      "[u'By', u'this', u'Friday', u',', u'sources', u'estimated', u'a', u'further', u'233', u',', u'600', u'tonnes', u'of', u'cereals', u'will', u'have', u'been', u'loaded', u',', u'comprising', u'47', u',', u'000', u'tonnes', u'of', u'barley', u',', u'78', u',', u'600', u'of', u'wheat', u'and', u'25', u',', u'000', u'of', u'rapeseed', u'for', u'the', u'Soviet', u'Union', u',', u'30', u',', u'000', u'of', u'wheat', u'for', u'Sri', u'Lanka', u',', u'28', u',', u'000', u'of', u'wheat', u'for', u'China', u'and', u'25', u',', u'000', u'of', u'wheat', u'for', u'Poland', u'.']\n",
      "42428\n",
      "[u'By', u'this', u'Friday', u',', u'sources', u'estimated', u'a', u'further', u'233', u',', u'600', u'tonnes', u'of', u'cereals', u'will', u'have', u'been', u'loaded', u',', u'comprising', u'47', u',', u'000', u'tonnes', u'of', u'barley', u',', u'78', u',', u'600', u'of', u'wheat', u'and', u'25', u',', u'000', u'of', u'rapeseed', u'for', u'the', u'Soviet', u'Union', u',', u'30', u',', u'000', u'of', u'wheat', u'for', u'Sri', u'Lanka', u',', u'28', u',', u'000', u'of', u'wheat', u'for', u'China', u'and', u'25', u',', u'000', u'of', u'wheat', u'for', u'Poland', u'.']\n",
      "59675\n",
      "[u'By', u'this', u'Friday', u',', u'sources', u'estimated', u'a', u'further', u'233', u',', u'600', u'tonnes', u'of', u'cereals', u'will', u'have', u'been', u'loaded', u',', u'comprising', u'47', u',', u'000', u'tonnes', u'of', u'barley', u',', u'78', u',', u'600', u'of', u'wheat', u'and', u'25', u',', u'000', u'of', u'rapeseed', u'for', u'the', u'Soviet', u'Union', u',', u'30', u',', u'000', u'of', u'wheat', u'for', u'Sri', u'Lanka', u',', u'28', u',', u'000', u'of', u'wheat', u'for', u'China', u'and', u'25', u',', u'000', u'of', u'wheat', u'for', u'Poland', u'.']\n",
      "61378\n",
      "[u'By', u'this', u'Friday', u',', u'sources', u'estimated', u'a', u'further', u'233', u',', u'600', u'tonnes', u'of', u'cereals', u'will', u'have', u'been', u'loaded', u',', u'comprising', u'47', u',', u'000', u'tonnes', u'of', u'barley', u',', u'78', u',', u'600', u'of', u'wheat', u'and', u'25', u',', u'000', u'of', u'rapeseed', u'for', u'the', u'Soviet', u'Union', u',', u'30', u',', u'000', u'of', u'wheat', u'for', u'Sri', u'Lanka', u',', u'28', u',', u'000', u'of', u'wheat', u'for', u'China', u'and', u'25', u',', u'000', u'of', u'wheat', u'for', u'Poland', u'.']\n",
      "76792\n",
      "[u'By', u'this', u'Friday', u',', u'sources', u'estimated', u'a', u'further', u'233', u',', u'600', u'tonnes', u'of', u'cereals', u'will', u'have', u'been', u'loaded', u',', u'comprising', u'47', u',', u'000', u'tonnes', u'of', u'barley', u',', u'78', u',', u'600', u'of', u'wheat', u'and', u'25', u',', u'000', u'of', u'rapeseed', u'for', u'the', u'Soviet', u'Union', u',', u'30', u',', u'000', u'of', u'wheat', u'for', u'Sri', u'Lanka', u',', u'28', u',', u'000', u'of', u'wheat', u'for', u'China', u'and', u'25', u',', u'000', u'of', u'wheat', u'for', u'Poland', u'.']\n",
      "43569\n",
      "[u'--', u'Revising', u'the', u'definition', u'of', u'sample', u'grade', u'for', u'wheat', u'by', u'adding', u'a', u'limit', u'of', u'32', u'insect', u'-', u'damaged', u'kernels', u'per', u'100', u'grams', u'of', u'wheat', u'.']\n",
      "40775\n",
      "[u'The', u'ban', u'had', u'threatened', u'food', u'shortages', u'of', u'imported', u'wheat', u',', u'fresh', u'vegetables', u'and', u'medicines', u'.']\n",
      "62449\n",
      "[u'The', u'ban', u'had', u'threatened', u'food', u'shortages', u'of', u'imported', u'wheat', u',', u'fresh', u'vegetables', u'and', u'medicines', u'.']\n",
      "75945\n",
      "[u'The', u'ban', u'had', u'threatened', u'food', u'shortages', u'of', u'imported', u'wheat', u',', u'fresh', u'vegetables', u'and', u'medicines', u'.']\n",
      "41846\n",
      "[u'It', u'stressed', u'the', u'need', u'to', u'segregate', u'wheat', u'categories', u'at', u'every', u'stage', u'from', u'receival', u'to', u'shipping', u'.']\n",
      "76493\n",
      "[u'It', u'stressed', u'the', u'need', u'to', u'segregate', u'wheat', u'categories', u'at', u'every', u'stage', u'from', u'receival', u'to', u'shipping', u'.']\n",
      "42148\n",
      "[u'However', u',', u'it', u'decided', u'to', u'leave', u'consideration', u'of', u'the', u'release', u'of', u'further', u'wheat', u'until', u'later', u'.']\n",
      "76654\n",
      "[u'However', u',', u'it', u'decided', u'to', u'leave', u'consideration', u'of', u'the', u'release', u'of', u'further', u'wheat', u'until', u'later', u'.']\n",
      "42492\n",
      "[u'The', u'bill', u'contains', u'a', u'provision', u'implementing', u'a', u'0', u'/', u'92', u'acreage', u'reduction', u'plan', u'for', u'1986', u'wheat', u'and', u'1987', u'winter', u'wheat', u',', u'thereby', u'making', u'payments', u'available', u'to', u'farmers', u'who', u'were', u'not', u'able', u'to', u'plant', u'last', u'year', u\"'\", u's', u'winter', u'wheat', u'crop', u'because', u'of', u'flooding', u'.']\n",
      "76846\n",
      "[u'The', u'bill', u'contains', u'a', u'provision', u'implementing', u'a', u'0', u'/', u'92', u'acreage', u'reduction', u'plan', u'for', u'1986', u'wheat', u'and', u'1987', u'winter', u'wheat', u',', u'thereby', u'making', u'payments', u'available', u'to', u'farmers', u'who', u'were', u'not', u'able', u'to', u'plant', u'last', u'year', u\"'\", u's', u'winter', u'wheat', u'crop', u'because', u'of', u'flooding', u'.']\n",
      "41276\n",
      "[u'The', u'closer', u'to', u'that', u'stage', u'the', u'more', u'vulnerable', u'the', u'head', u'of', u'the', u'wheat', u'is', u'to', u'cold', u'weather', u',', u'he', u'said', u'.']\n",
      "76169\n",
      "[u'The', u'closer', u'to', u'that', u'stage', u'the', u'more', u'vulnerable', u'the', u'head', u'of', u'the', u'wheat', u'is', u'to', u'cold', u'weather', u',', u'he', u'said', u'.']\n",
      "41050\n",
      "[u'Hard', u'red', u'winter', u'wheat', u'should', u'comprise', u'the', u'bulk', u'of', u'the', u'stocks', u',', u'followed', u'by', u'spring', u'wheat', u',', u'he', u'said', u'.']\n",
      "76054\n",
      "[u'Hard', u'red', u'winter', u'wheat', u'should', u'comprise', u'the', u'bulk', u'of', u'the', u'stocks', u',', u'followed', u'by', u'spring', u'wheat', u',', u'he', u'said', u'.']\n",
      "41671\n",
      "[u'Rosario', u'-', u'Wheat', u'50', u',', u'400', u',', u'maize', u'157', u',', u'040', u',', u'subproducts', u'50', u',', u'100', u',', u'sunflowerseed', u'1', u',', u'000', u'and', u'millet', u'3', u',', u'100', u'.']\n",
      "59447\n",
      "[u'Rosario', u'-', u'Wheat', u'50', u',', u'400', u',', u'maize', u'157', u',', u'040', u',', u'subproducts', u'50', u',', u'100', u',', u'sunflowerseed', u'1', u',', u'000', u'and', u'millet', u'3', u',', u'100', u'.']\n",
      "64127\n",
      "[u'Rosario', u'-', u'Wheat', u'50', u',', u'400', u',', u'maize', u'157', u',', u'040', u',', u'subproducts', u'50', u',', u'100', u',', u'sunflowerseed', u'1', u',', u'000', u'and', u'millet', u'3', u',', u'100', u'.']\n",
      "12787\n",
      "[u'Wheat', u',', u'durum', u',', u'oats', u'and', u'barley', u'crops', u'were', u'all', u'one', u'-', u'pct', u'headed', u',', u'rye', u'was', u'40', u'pct', u'in', u'the', u'milk', u'stage', u'and', u'winter', u'wheat', u'was', u'21', u'pct', u'milk', u'stage', u'.']\n",
      "40928\n",
      "[u'Wheat', u',', u'durum', u',', u'oats', u'and', u'barley', u'crops', u'were', u'all', u'one', u'-', u'pct', u'headed', u',', u'rye', u'was', u'40', u'pct', u'in', u'the', u'milk', u'stage', u'and', u'winter', u'wheat', u'was', u'21', u'pct', u'milk', u'stage', u'.']\n",
      "58864\n",
      "[u'Wheat', u',', u'durum', u',', u'oats', u'and', u'barley', u'crops', u'were', u'all', u'one', u'-', u'pct', u'headed', u',', u'rye', u'was', u'40', u'pct', u'in', u'the', u'milk', u'stage', u'and', u'winter', u'wheat', u'was', u'21', u'pct', u'milk', u'stage', u'.']\n",
      "75988\n",
      "[u'Wheat', u',', u'durum', u',', u'oats', u'and', u'barley', u'crops', u'were', u'all', u'one', u'-', u'pct', u'headed', u',', u'rye', u'was', u'40', u'pct', u'in', u'the', u'milk', u'stage', u'and', u'winter', u'wheat', u'was', u'21', u'pct', u'milk', u'stage', u'.']\n",
      "41850\n",
      "[u'\"', u'It', u'is', u'essential', u'that', u'wheat', u'moves', u'by', u'the', u'most', u'economic', u'mode', u'to', u'the', u'nearest', u'efficient', u'port', u',', u'irrespective', u'of', u'the', u'state', u'in', u'which', u'the', u'wheat', u'is', u'grown', u'or', u'stored', u',\"', u'it', u'said', u'.']\n",
      "76497\n",
      "[u'\"', u'It', u'is', u'essential', u'that', u'wheat', u'moves', u'by', u'the', u'most', u'economic', u'mode', u'to', u'the', u'nearest', u'efficient', u'port', u',', u'irrespective', u'of', u'the', u'state', u'in', u'which', u'the', u'wheat', u'is', u'grown', u'or', u'stored', u',\"', u'it', u'said', u'.']\n",
      "43923\n",
      "[u'\"', u'If', u'they', u'(', u'the', u'administration', u')', u'are', u'interested', u'in', u'selling', u'it', u'(', u'wheat', u'),', u'they', u'should', u'find', u'ways', u'to', u'do', u'it', u'.\"']\n",
      "77505\n",
      "[u'\"', u'If', u'they', u'(', u'the', u'administration', u')', u'are', u'interested', u'in', u'selling', u'it', u'(', u'wheat', u'),', u'they', u'should', u'find', u'ways', u'to', u'do', u'it', u'.\"']\n",
      "41771\n",
      "[u'Immingham', u'or', u'Foynes', u'/', u'Red', u'Sea', u'25', u',', u'000', u'mt', u'bulk', u'barley', u'4', u',', u'000', u'/', u'3', u',', u'000', u'10', u'-', u'15', u'/', u'4', u'alternatively', u'try', u't', u'/', u'c', u'.']\n",
      "64137\n",
      "[u'Immingham', u'or', u'Foynes', u'/', u'Red', u'Sea', u'25', u',', u'000', u'mt', u'bulk', u'barley', u'4', u',', u'000', u'/', u'3', u',', u'000', u'10', u'-', u'15', u'/', u'4', u'alternatively', u'try', u't', u'/', u'c', u'.']\n",
      "42596\n",
      "[u'Unless', u'the', u'English', u'bill', u'pertains', u'only', u'to', u'1987', u'winter', u'wheat', u',', u'it', u'is', u'more', u'than', u'a', u'simple', u'disaster', u'payment', u'and', u'feedgrains', u'should', u'be', u'treated', u'equally', u',', u'they', u'said', u'.']\n",
      "76899\n",
      "[u'Unless', u'the', u'English', u'bill', u'pertains', u'only', u'to', u'1987', u'winter', u'wheat', u',', u'it', u'is', u'more', u'than', u'a', u'simple', u'disaster', u'payment', u'and', u'feedgrains', u'should', u'be', u'treated', u'equally', u',', u'they', u'said', u'.']\n",
      "41670\n",
      "[u'Buenos', u'Aires', u'-', u'Maize', u'104', u',', u'304', u',', u'Wheat', u'14', u',', u'330', u'.']\n",
      "59446\n",
      "[u'Buenos', u'Aires', u'-', u'Maize', u'104', u',', u'304', u',', u'Wheat', u'14', u',', u'330', u'.']\n",
      "64126\n",
      "[u'Buenos', u'Aires', u'-', u'Maize', u'104', u',', u'304', u',', u'Wheat', u'14', u',', u'330', u'.']\n",
      "41852\n",
      "[u'Similarly', u',', u'southern', u'NSW', u'wheat', u'might', u'better', u'be', u'shipped', u'to', u'Portland', u'or', u'Geelong', u',', u'in', u'Victoria', u'.']\n",
      "76499\n",
      "[u'Similarly', u',', u'southern', u'NSW', u'wheat', u'might', u'better', u'be', u'shipped', u'to', u'Portland', u'or', u'Geelong', u',', u'in', u'Victoria', u'.']\n",
      "18156\n",
      "[u'However', u',', u'the', u'situation', u'in', u'wheat', u'is', u'\"', u'a', u'different', u'story', u',\"', u'he', u'said', u'.']\n",
      "42779\n",
      "[u'However', u',', u'the', u'situation', u'in', u'wheat', u'is', u'\"', u'a', u'different', u'story', u',\"', u'he', u'said', u'.']\n",
      "76972\n",
      "[u'However', u',', u'the', u'situation', u'in', u'wheat', u'is', u'\"', u'a', u'different', u'story', u',\"', u'he', u'said', u'.']\n",
      "17961\n",
      "[u'Wheat', u'buying', u',', u'however', u',', u'is', u'a', u'different', u'story', u',', u'Melnikov', u'said', u'.']\n",
      "42321\n",
      "[u'Wheat', u'buying', u',', u'however', u',', u'is', u'a', u'different', u'story', u',', u'Melnikov', u'said', u'.']\n",
      "76714\n",
      "[u'Wheat', u'buying', u',', u'however', u',', u'is', u'a', u'different', u'story', u',', u'Melnikov', u'said', u'.']\n",
      "42594\n",
      "[u'The', u'disaster', u'aid', u'bill', u',', u'introduced', u'by', u'Rep', u'.', u'Glenn', u'English', u'(', u'D', u'-', u'Okla', u'.),', u'sparked', u'sharp', u'controversy', u'with', u'its', u'proposals', u'to', u'implement', u'a', u'0', u'/', u'92', u'program', u'for', u'1987', u'wheat', u'and', u'1988', u'winter', u'wheat', u'.']\n",
      "76897\n",
      "[u'The', u'disaster', u'aid', u'bill', u',', u'introduced', u'by', u'Rep', u'.', u'Glenn', u'English', u'(', u'D', u'-', u'Okla', u'.),', u'sparked', u'sharp', u'controversy', u'with', u'its', u'proposals', u'to', u'implement', u'a', u'0', u'/', u'92', u'program', u'for', u'1987', u'wheat', u'and', u'1988', u'winter', u'wheat', u'.']\n",
      "41023\n",
      "[u'It', u'rejected', u'bids', u'for', u'wheat', u'for', u'later', u'shipment', u'dates', u',', u'they', u'said', u'.']\n",
      "76029\n",
      "[u'It', u'rejected', u'bids', u'for', u'wheat', u'for', u'later', u'shipment', u'dates', u',', u'they', u'said', u'.']\n",
      "41315\n",
      "[u'Western', u'USSR', u'winter', u'wheat', u'areas', u'have', u'had', u'only', u'light', u'and', u'spotty', u'snow', u'and', u'winterkill', u'is', u'possible', u'tonight', u'and', u'tomorrow', u'night', u'as', u'temperatures', u'drop', u'to', u'minus', u'10', u'to', u'0', u'degrees', u'F', u'.', u'Snow', u'cover', u'is', u'scant', u'in', u'Poland', u',', u'with', u'only', u'about', u'50', u'pct', u'of', u'the', u'winter', u'wheat', u'areas', u'reporting', u'one', u'to', u'two', u'inches', u'of', u'snow', u'as', u'of', u'this', u'morning', u'.']\n",
      "76188\n",
      "[u'Western', u'USSR', u'winter', u'wheat', u'areas', u'have', u'had', u'only', u'light', u'and', u'spotty', u'snow', u'and', u'winterkill', u'is', u'possible', u'tonight', u'and', u'tomorrow', u'night', u'as', u'temperatures', u'drop', u'to', u'minus', u'10', u'to', u'0', u'degrees', u'F', u'.', u'Snow', u'cover', u'is', u'scant', u'in', u'Poland', u',', u'with', u'only', u'about', u'50', u'pct', u'of', u'the', u'winter', u'wheat', u'areas', u'reporting', u'one', u'to', u'two', u'inches', u'of', u'snow', u'as', u'of', u'this', u'morning', u'.']\n",
      "40754\n",
      "[u'ONIC', u'TENDERS', u'WEDNESDAY', u'FOR', u'WHEAT', u'FOR', u'PAKISTAN', u'The', u'French', u'Cereals', u'Intervention', u'Board', u'(', u'ONIC', u')', u'will', u'tender', u'Wednesday', u'for', u'20', u',', u'000', u'tonnes', u'soft', u'wheat', u'for', u'Pakistan', u'under', u'the', u'French', u'food', u'aid', u'programme', u',', u'an', u'ONIC', u'official', u'said', u'.']\n",
      "75930\n",
      "[u'ONIC', u'TENDERS', u'WEDNESDAY', u'FOR', u'WHEAT', u'FOR', u'PAKISTAN', u'The', u'French', u'Cereals', u'Intervention', u'Board', u'(', u'ONIC', u')', u'will', u'tender', u'Wednesday', u'for', u'20', u',', u'000', u'tonnes', u'soft', u'wheat', u'for', u'Pakistan', u'under', u'the', u'French', u'food', u'aid', u'programme', u',', u'an', u'ONIC', u'official', u'said', u'.']\n",
      "12699\n",
      "[u'ALL', u'WHEAT', u'1986', u'/', u'87', u'1985', u'/', u'86', u'(', u'cont', u'.)']\n"
     ]
    },
    {
     "data": {
      "text/plain": [
       "[12793,\n",
       " 40946,\n",
       " 58870,\n",
       " 59244,\n",
       " 61326,\n",
       " 63268,\n",
       " 67919,\n",
       " 76003,\n",
       " 12833,\n",
       " 17728,\n",
       " 41650,\n",
       " 59430,\n",
       " 61342,\n",
       " 64110,\n",
       " 76397,\n",
       " 17650,\n",
       " 41376,\n",
       " 76238,\n",
       " 12667,\n",
       " 17212,\n",
       " 40289,\n",
       " 75672,\n",
       " 12955,\n",
       " 43683,\n",
       " 41669,\n",
       " 59445,\n",
       " 64125,\n",
       " 12880,\n",
       " 17980,\n",
       " 42425,\n",
       " 59672,\n",
       " 61375,\n",
       " 76789,\n",
       " 71894,\n",
       " 18908,\n",
       " 44169,\n",
       " 58911,\n",
       " 60276,\n",
       " 63273,\n",
       " 65840,\n",
       " 67486,\n",
       " 77541,\n",
       " 18593,\n",
       " 43577,\n",
       " 77363,\n",
       " 12883,\n",
       " 17983,\n",
       " 42428,\n",
       " 59675,\n",
       " 61378]"
      ]
     },
     "execution_count": 146,
     "metadata": {},
     "output_type": "execute_result"
    }
   ],
   "source": [
    "test_search(\"rye\", lsi_tfidf, index_tfidf, True, tfidf)"
   ]
  },
  {
   "cell_type": "code",
   "execution_count": 121,
   "metadata": {
    "collapsed": true
   },
   "outputs": [],
   "source": [
    "lsi_bow.save('../../data/reuters.bow.lsi_model')"
   ]
  },
  {
   "cell_type": "code",
   "execution_count": 122,
   "metadata": {
    "collapsed": true
   },
   "outputs": [],
   "source": [
    "lsi_tfidf.save('../../data/reuters.tfidf.lsi_model')"
   ]
  },
  {
   "cell_type": "code",
   "execution_count": 123,
   "metadata": {
    "collapsed": true
   },
   "outputs": [],
   "source": [
    "index_bow.save('../../data/reuters.bow.index')"
   ]
  },
  {
   "cell_type": "code",
   "execution_count": 124,
   "metadata": {
    "collapsed": true
   },
   "outputs": [],
   "source": [
    "index_tfidf.save('../../data/reuters.tfidf.index')"
   ]
  },
  {
   "cell_type": "code",
   "execution_count": null,
   "metadata": {
    "collapsed": true
   },
   "outputs": [],
   "source": [
    "models.TfidfModel.load"
   ]
  }
 ],
 "metadata": {
  "kernelspec": {
   "display_name": "Python 2",
   "language": "python",
   "name": "python2"
  },
  "language_info": {
   "codemirror_mode": {
    "name": "ipython",
    "version": 2
   },
   "file_extension": ".py",
   "mimetype": "text/x-python",
   "name": "python",
   "nbconvert_exporter": "python",
   "pygments_lexer": "ipython2",
   "version": "2.7.10"
  }
 },
 "nbformat": 4,
 "nbformat_minor": 1
}
